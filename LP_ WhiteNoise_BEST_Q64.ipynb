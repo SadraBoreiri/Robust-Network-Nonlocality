{
 "cells": [
  {
   "cell_type": "code",
   "execution_count": 1,
   "id": "811f12f3",
   "metadata": {},
   "outputs": [],
   "source": [
    "import numpy as np\n",
    "from numpy import kron\n",
    "import math\n",
    "from math import sqrt\n",
    "from random import random\n",
    "\n",
    "\n",
    "import matplotlib.pyplot as plt\n",
    "import matplotlib as mpl\n",
    "\n",
    "from itertools import product\n",
    "\n",
    "from matplotlib import colors\n",
    "\n",
    "import time\n",
    "\n",
    "from tqdm import tqdm"
   ]
  },
  {
   "cell_type": "markdown",
   "id": "caeac007",
   "metadata": {},
   "source": [
    "## $f_{\\epsilon}$ function"
   ]
  },
  {
   "cell_type": "code",
   "execution_count": 2,
   "id": "99c2f2de",
   "metadata": {},
   "outputs": [],
   "source": [
    "def f(eps):\n",
    "    if eps<=1/4:\n",
    "        f = 1/2 + eps - (1-4*eps)/(2*np.sqrt(1-2*eps))\n",
    "    else:\n",
    "        f=1/2+eps\n",
    "    return f"
   ]
  },
  {
   "cell_type": "code",
   "execution_count": 3,
   "id": "4abefead",
   "metadata": {},
   "outputs": [
    {
     "data": {
      "text/plain": [
       "0.025126778614938894"
      ]
     },
     "execution_count": 3,
     "metadata": {},
     "output_type": "execute_result"
    }
   ],
   "source": [
    "f(0.01)"
   ]
  },
  {
   "cell_type": "markdown",
   "id": "f7c2c2ed",
   "metadata": {},
   "source": [
    "## The Distribution with White noise at the Source and meaurment\n",
    "\n",
    "$|\\psi> = \\lambda_0 |01> + \\lambda_1 |10>$\n",
    "\n",
    "$\\rho = (1-W)  |\\psi><\\psi| + \\frac{W}{4}  I$ \n",
    "\n",
    "\n",
    "\n",
    "\n",
    "$M_{x_1,x_2} = (1-\\eta)|\\phi_{x_1,x_2}><\\phi_{x_1,x_2}| + \\eta \\frac{I}{4} $"
   ]
  },
  {
   "cell_type": "code",
   "execution_count": 4,
   "id": "aba9ba43",
   "metadata": {},
   "outputs": [
    {
     "name": "stderr",
     "output_type": "stream",
     "text": [
      "/Users/sadra/opt/anaconda3/lib/python3.9/site-packages/scipy/__init__.py:146: UserWarning: A NumPy version >=1.16.5 and <1.23.0 is required for this version of SciPy (detected version 1.25.2\n",
      "  warnings.warn(f\"A NumPy version >={np_minversion} and <{np_maxversion}\"\n"
     ]
    }
   ],
   "source": [
    "def new_index(x):   # 012345 --> 123450\n",
    "    b  = bin(x)[2:].zfill(6) # x in binary b0..b5\n",
    "    y = int(b[1:]+b[0], 2)\n",
    "    return y\n",
    "\n",
    "def change_qbit_order(x): # 012345 --> 123450\n",
    "    x_ordered = np.zeros_like(x)\n",
    "    for i in range(64):\n",
    "        for j in range(64):\n",
    "            x_ordered[new_index(i), new_index(j)] = x[i,j]\n",
    "    return x_ordered\n",
    "\n",
    "\n",
    "def PP(w,z,u,v,lambda_0,lambda_1, eta, W):\n",
    "    \n",
    "## settign states\n",
    "    state_0 = np.array([1,0])\n",
    "    state_1 = np.array([0,1])\n",
    "    \n",
    "    state_00 = kron(state_0,state_0).reshape(4,1)\n",
    "    state_01 = kron(state_0,state_1).reshape(4,1)\n",
    "    state_10 = kron(state_1,state_0).reshape(4,1)\n",
    "    state_11 = kron(state_1,state_1).reshape(4,1)\n",
    "    \n",
    "    psi = (lambda_0*state_01 + lambda_1*state_10)\n",
    "    \n",
    "    \n",
    "    rho_noiseless = np.dot(psi, psi.T)\n",
    "    \n",
    "    # add noise for source:\n",
    "    rho = (1-W)*rho_noiseless + (W/4)*np.identity(4)\n",
    "    \n",
    "    total_rho = kron(kron(rho,rho),rho)\n",
    "    \n",
    "    total_rho_ordered = change_qbit_order(total_rho)\n",
    "\n",
    "    \n",
    "## Setting Measurment \n",
    "    out_00 = z*state_00 + w*state_11\n",
    "    out_01 = w*state_00 - z*state_11\n",
    "    out_10 = u*state_01 + v*state_10\n",
    "    out_11 = v*state_01 - u*state_10\n",
    "    \n",
    "    \n",
    "    M_00 = (1-eta)*np.dot(out_00, out_00.T) + (eta/4)*np.identity(4)\n",
    "    M_01 = (1-eta)*np.dot(out_01, out_01.T) + (eta/4)*np.identity(4)\n",
    "    M_10 = (1-eta)*np.dot(out_10, out_10.T) + (eta/4)*np.identity(4)\n",
    "    M_11 = (1-eta)*np.dot(out_11, out_11.T) + (eta/4)*np.identity(4)\n",
    "    \n",
    "    M = np.array([[M_00, M_01],[M_10, M_11]])\n",
    "    \n",
    "    ## Resulting distribution\n",
    "    \n",
    "    p = np.zeros((2,2,2,2,2,2))\n",
    "\n",
    "    for a1,a2,b1,b2,c1,c2 in product(range(2), repeat=6):\n",
    "    \n",
    "        total_M = kron(kron(M[a1,a2], M[b1,b2]), M[c1,c2])\n",
    "        \n",
    "        p[a1,a2,b1,b2,c1,c2] = np.trace(np.dot(total_M, total_rho_ordered))\n",
    "\n",
    "    return p\n",
    "\n",
    "# find epsilon...... it only depens on  V !!!\n",
    "\n",
    "#%%\n",
    "import sys\n",
    "import mosek\n",
    "import scipy.sparse as sp\n",
    "# Since the value of infinity is ignored, we define it solely\n",
    "# for symbolic purposes\n",
    "inf = 1.0\n",
    "\n",
    "# Define a stream printer to grab output from MOSEK\n",
    "def streamprinter(text):\n",
    "    sys.stdout.write(text)\n",
    "    sys.stdout.flush()\n",
    "    \n",
    "def main_for_LP(c, A_eq, b_eq, A_ub ,b_ub, verbose=False):\n",
    "    # Create a task object\n",
    "    A = np.vstack((A_eq,A_ub))\n",
    "    A = sp.coo_matrix(A)\n",
    "    \n",
    "    with mosek.Env() as env:\n",
    "        with env.Task(0, 0) as task:\n",
    "            # Attach a log stream printer to the task\n",
    "            if verbose:\n",
    "                task.set_Stream(mosek.streamtype.log, streamprinter)\n",
    "    \n",
    "            # Bound keys for constraints\n",
    "            bkc = [mosek.boundkey.fx for i in range(len(A_eq))]+[mosek.boundkey.ra for i in range(len(A_ub))]\n",
    "    \n",
    "            # Bound values for constraints\n",
    "            buc = list(b_eq)+list(b_ub)\n",
    "            blc = list(b_eq)+[-inf for i in range(len(buc))]\n",
    "            \n",
    "            # Bound keys for variables\n",
    "            bkx = [mosek.boundkey.ra for i in range(len(c))]\n",
    "    \n",
    "            # Bound values for variables\n",
    "            blx = [0.0 for i in range(len(c))]\n",
    "            bux = [1.0 for i in range(len(c))]\n",
    "    \n",
    "            numvar = len(bkx)\n",
    "            numcon = len(bkc)\n",
    "\n",
    "            # Append 'numcon' empty constraints.\n",
    "            # The constraints will initially have no bounds.\n",
    "            task.appendcons(numcon)\n",
    "    \n",
    "            # Append 'numvar' variables.\n",
    "            # The variables will initially be fixed at zero (x=0).\n",
    "            task.appendvars(numvar)\n",
    "    \n",
    "            for j in range(numvar):\n",
    "                # Set the linear term c_j in the objective.\n",
    "                task.putcj(j, c[j])\n",
    "    \n",
    "                # Set the bounds on variable j\n",
    "                # blx[j] <= x_j <= bux[j]\n",
    "                task.putvarbound(j, bkx[j], blx[j], bux[j])\n",
    "    \n",
    "                # Input column j of A\n",
    "            task.putaijlist(list(A.row),list(A.col),list(A.data))          \n",
    "    \n",
    "            # Set the bounds on constraints.\n",
    "             # blc[i] <= constraint_i <= buc[i]\n",
    "            for i in range(numcon):\n",
    "                task.putconbound(i, bkc[i], blc[i], buc[i])\n",
    "    \n",
    "            # Input the objective sense (minimize/maximize)\n",
    "            task.putobjsense(mosek.objsense.minimize)\n",
    "    \n",
    "            # Solve the problem\n",
    "            task.optimize()\n",
    "            # Print a summary containing information\n",
    "            # about the solution for debugging purposes\n",
    "            if verbose:\n",
    "                task.solutionsummary(mosek.streamtype.msg)\n",
    "    \n",
    "            # Get status information about the solution\n",
    "            solsta = task.getsolsta(mosek.soltype.bas)\n",
    "            \n",
    "            # Get the result!\n",
    "            xx = [0.0]*numvar\n",
    "            task.getxx(mosek.soltype.itr, xx)\n",
    "            \n",
    "            \n",
    "    \n",
    "            #if (solsta == mosek.solsta.optimal):\n",
    "            #xx = [0.0] * numvar\n",
    "            #task.getxx(mosek.soltype.itr, xx)\n",
    "                #print(\"Optimal solution: \")\n",
    "                #for i in range(numvar):\n",
    "                #    print(\"x[\" + str(i) + \"]=\" + str(xx[i]))\n",
    "            #elif (solsta == mosek.solsta.dual_infeas_cer or\n",
    "            #      solsta == mosek.solsta.prim_infeas_cer):\n",
    "            #    if verbose:\n",
    "            #        print(\"Primal or dual infeasibility certificate found.\\n\")\n",
    "            #elif solsta == mosek.solsta.unknown:\n",
    "            #    print(\"Unknown solution status\")\n",
    "            #else:\n",
    "            #    print(\"Other solution status\")\n",
    "            #obje = task.getprimalobj(mosek.soltype.itr)\n",
    "            #if verbose:\n",
    "            #    print(obje)\n",
    "            return solsta, xx\n",
    "        \n",
    "        \n"
   ]
  },
  {
   "cell_type": "code",
   "execution_count": 5,
   "id": "69befca6",
   "metadata": {},
   "outputs": [
    {
     "data": {
      "text/plain": [
       "1.0"
      ]
     },
     "execution_count": 5,
     "metadata": {},
     "output_type": "execute_result"
    }
   ],
   "source": [
    "l0 = np.sqrt(1/2)\n",
    "l1 = np.sqrt(1-l0**2)\n",
    "\n",
    "rr = PP(w=0,z=1,u=0,v=1,lambda_0=l0,lambda_1=l1, eta=0.6, W=0.4)\n",
    "\n",
    "np.sum(rr)"
   ]
  },
  {
   "cell_type": "markdown",
   "id": "228ec00f",
   "metadata": {},
   "source": [
    "## Find $\\epsilon : $ $P$(not PTC)"
   ]
  },
  {
   "cell_type": "code",
   "execution_count": 6,
   "id": "02e996f4",
   "metadata": {},
   "outputs": [],
   "source": [
    "def find_eps(eta, W):\n",
    "    \n",
    "    return 1/2*(1-((1-eta)*(1-W))**3)"
   ]
  },
  {
   "cell_type": "code",
   "execution_count": 7,
   "id": "0c2085ae",
   "metadata": {},
   "outputs": [
    {
     "name": "stdout",
     "output_type": "stream",
     "text": [
      "0.37497650000000005\n"
     ]
    }
   ],
   "source": [
    "#Find eps: it only depens on  eta!\n",
    "\n",
    "eta = 0.1\n",
    "W = 0.3\n",
    "\n",
    "l0 = np.sqrt(1/7)  #lambda0\n",
    "l1 = np.sqrt(1-l0**2)\n",
    "\n",
    "u = 0.5\n",
    "v = np.sqrt(1-u**2)\n",
    "\n",
    "w = 0.7\n",
    "z = np.sqrt(1-w**2)\n",
    "\n",
    "p_test = PP(w,z,u,v,l0,l1, eta, W)\n",
    "    \n",
    "    \n",
    "p_s3 = np.sum(p_test[1,:,1,:,1,:]) + np.sum(p_test[1,:,0,:,0,:]) + np.sum(p_test[0,:,1,:,0,:]) + np.sum(p_test[0,:,0,:,1,:])\n",
    "eps = 1- p_s3\n",
    "\n",
    "print(eps)"
   ]
  },
  {
   "cell_type": "code",
   "execution_count": 8,
   "id": "dea699b0",
   "metadata": {},
   "outputs": [
    {
     "data": {
      "text/plain": [
       "0.3749765"
      ]
     },
     "execution_count": 8,
     "metadata": {},
     "output_type": "execute_result"
    }
   ],
   "source": [
    "find_eps(eta, W)"
   ]
  },
  {
   "cell_type": "markdown",
   "id": "25d0f551",
   "metadata": {},
   "source": [
    "# Single experiment with white noise"
   ]
  },
  {
   "cell_type": "markdown",
   "id": "b8787139",
   "metadata": {},
   "source": [
    "### The LP:\n",
    "\n",
    "$$P_{obs}(a_1,a_2,b_1,b_2,c_1,c_2) = P_{PTC}^{New}(a_1,a_2,b_1,b_2,c_1,c_2) + 2\\epsilon ~ x(a_1,a_2,b_1,b_2,c_1,c_2) - 2\\epsilon ~ y(a_1,a_2,b_1,b_2,c_1,c_2) = \\sum_{t_a, t_b, t_c \\Rightarrow a_1, b_1, c_1}{P(a_2,b_2,c_2, t_a, t_b, t_c)} + 2\\epsilon ~ x(a_1,a_2,b_1,b_2,c_1,c_2) - 2\\epsilon ~ y(a_1,a_2,b_1,b_2,c_1,c_2) $$\n",
    "\n",
    "\n",
    "$$ \\sum x(a_1,a_2,b_1,b_2,c_1,c_2) = 1 = y(a_1,a_2,b_1,b_2,c_1,c_2)$$\n",
    "\n",
    "\n",
    "$x(a_2,b_2,c_2) =  y(a_2,b_2,c_2) \\Rightarrow \\sum_{a_1,b_1,c_1} x(a_1,a_2,b_1,b_2,c_1,c_2) =  \\sum_{a_1,b_1,c_1} y(a_1,a_2,b_1,b_2,c_1,c_2)$\n",
    "\n",
    "\n",
    "and Network constraint:\n",
    "\n",
    "$$P(a_2|0, t_b, t_c) = P(a_2|1, t_b, t_c) \\Leftrightarrow q(t_a = 1) \\sum_{b_2,c_2}  {P(a_2,b_2,c_2,0, t_b, t_c)} -  q(t_a = 0) \\sum_{b_2,c_2}P(a_2,b_2,c_2,1, t_b, t_c) = 0$$\n",
    "\n",
    "\n",
    "\n",
    "$$ q_{low} = \\frac{1}{2}(1+\\sqrt{\\frac{(E_A^{obs}-4 \\epsilon)(E_A^{obs}-4 \\epsilon)}{E_A^{obs}+4 \\epsilon}}) \\leq q(t_a = 1) = \\frac{1}{2}(1+\\sqrt{\\frac{E_B E_C}{E_A}}) \\leq \\frac{1}{2}(1+\\sqrt{\\frac{(E_A^{obs}+4 \\epsilon)(E_A^{obs}+4 \\epsilon)}{E_A^{obs}-4 \\epsilon}}) = q_{up}$$\n",
    "\n",
    "\n",
    "\n",
    "or \"3 $\\epsilon$\" if we compute E_A^{obs} only for a,b,c which are PTC \n",
    "\n",
    "\n",
    "By Symetry we have: \n",
    "\n",
    "\n",
    "\n",
    "$$ q_{low} \\sum_{b_2,c_2}  {P(a_2,b_2,c_2,0, t_b, t_c)} - (1-q_{low}) \\sum_{b_2,c_2}P(a_2,b_2,c_2,1, t_b, t_c) \\leq 0 \\leq q_{up} \\sum_{b_2,c_2}  {P(a_2,b_2,c_2,0, t_b, t_c)} - (1-q_{up}) \\sum_{b_2,c_2}P(a_2,b_2,c_2,1, t_b, t_c)$$\n"
   ]
  },
  {
   "cell_type": "code",
   "execution_count": 9,
   "id": "534623e9",
   "metadata": {},
   "outputs": [],
   "source": [
    "def get_single_exp_mosek(l0, eta, W, phi_u, phi_w, honest_q=False, N_grid_q=1):  \n",
    "    \n",
    "    l1 = np.sqrt(1-l0**2)\n",
    "    \n",
    "    # find epsilon\n",
    "    eps = find_eps(eta, W)\n",
    "\n",
    "    \n",
    "    q = l0**2  #probability of sending token to right/left\n",
    "\n",
    "    q_a = [q, 1-q]\n",
    "    q_b = [q, 1-q]\n",
    "    q_c = [q, 1-q]\n",
    "    \n",
    "\n",
    "    c = np.zeros(64*3)  # number of vars 64*3 = 192 ....\n",
    "\n",
    "\n",
    "    # Form the matrix A\n",
    "\n",
    "    #First we consider the probability constraints \n",
    "\n",
    "    A_1 = np.zeros((64, 64*3))\n",
    "\n",
    "    for a1,a2,b1,b2,c1,c2 in product(range(2), repeat=6):\n",
    "        constraint_it = np.inner([32,16,8,4,2,1],[a1,a2,b1,b2,c1,c2])\n",
    "        for ta,tb,tc in product(range(2), repeat=3): \n",
    "            if (a1 == (tb+tc+1)%2) and (b1 == (ta+tc+1)%2) and (c1 == (ta+tb+1)%2): # ParityCheck\n",
    "                var_it = np.inner([32,16,8,4,2,1],[a2,b2,c2,ta,tb,tc])\n",
    "                A_1[constraint_it, var_it] = 1\n",
    "        A_1[constraint_it, constraint_it+64] = f(eps)  # ---> x coef\n",
    "        A_1[constraint_it, constraint_it+(64*2)] = -f(eps)  # ---> y coef\n",
    "\n",
    "\n",
    "    #Normalization for x and y\n",
    "    A_1_norm_xy = np.zeros((1, 64*3))    \n",
    "\n",
    "    for a1,a2,b1,b2,c1,c2 in product(range(2), repeat=6):\n",
    "        temp = np.inner([32,16,8,4,2,1],[a1,a2,b1,b2,c1,c2])\n",
    "        A_1_norm_xy[0, temp+64] = 1 # ---> x coef\n",
    "        #A_1_norm_xy[1, temp+(64*2)] = 1 # ---> y coef\n",
    "\n",
    "    # sum over a1,b1,c1 for x and y is the same..\n",
    "    A_x2y2 =  np.zeros((8, 64*3))\n",
    "    for a2,b2,c2 in product(range(2), repeat=3):  \n",
    "        constraint_it = np.inner([4,2,1],[a2,b2,c2]) \n",
    "        for a1,b1,c1 in product(range(2), repeat=3):\n",
    "            temp = np.inner([32,16,8,4,2,1],[a1,a2,b1,b2,c1,c2])\n",
    "            A_x2y2[constraint_it, temp+64] = 1 # ---> x coef\n",
    "            A_x2y2[constraint_it, temp+(64*2)] = -1  # ---> y coef\n",
    "\n",
    "\n",
    "    A_eq = np.concatenate([A_1,A_1_norm_xy,A_x2y2])\n",
    "    \n",
    "    \n",
    "    #form part of b that doesnt depend on distribution\n",
    "    b_1_normxy = np.ones(1)\n",
    "    b_x2y2 = np.zeros(8)\n",
    "    b_3_up = np.zeros(24)\n",
    "    b_3_low = np.zeros(24)\n",
    "\n",
    "\n",
    "\n",
    "\n",
    "    prob = PP(np.cos(phi_w), np.sin(phi_w), np.cos(phi_u), np.sin(phi_u),l0,l1, eta, W)\n",
    "\n",
    "\n",
    "    # Form the vector b            \n",
    "    b_1 = np.zeros(64)\n",
    "    for a1,a2,b1,b2,c1,c2 in product(range(2), repeat=6):\n",
    "        constraint_it = np.inner([32,16,8,4,2,1],[a1,a2,b1,b2,c1,c2])\n",
    "        b_1[constraint_it] = prob[a1,a2,b1,b2,c1,c2]\n",
    "\n",
    "\n",
    "\n",
    "    b_eq = np.concatenate([b_1,b_1_normxy,b_x2y2])\n",
    "\n",
    "    b_up = np.concatenate([b_3_up, b_3_low])\n",
    "\n",
    "\n",
    "\n",
    "    # Continue A\n",
    "    # Now we consider the network independence constraints\n",
    "    '''\n",
    "    E_A_obs = 2*np.sum(prob[1,:,:,:,:,:])-1\n",
    "    q_up  = 0.5*(1+np.sqrt(E_A_obs+4*eps))   #q_a[1] \n",
    "    q_low = 0.5*(1+np.sqrt(E_A_obs-4*eps))   #q_a[1]\n",
    "    '''\n",
    "\n",
    "    if honest_q == False:\n",
    "\n",
    "        E_A_obs_ptc = np.abs(2*(np.sum(prob[0,:,0,:,1,:]) + np.sum(prob[0,:,1,:,0,:]) )-1) #for q_a(0) inside ptc\n",
    "\n",
    "        delta = 2*f(eps)-eps\n",
    "        \n",
    "        q_up_main  = 0.5*(1+((E_A_obs_ptc + delta)/np.sqrt(E_A_obs_ptc - delta)))\n",
    "        q_up_main  = min(1, q_up_main)\n",
    "\n",
    "        q_low_main = 0.5*(1+((E_A_obs_ptc - delta)/np.sqrt(E_A_obs_ptc + delta)))\n",
    "        q_low_main = max(0,q_low_main)\n",
    "\n",
    "    else:\n",
    "        q_up_main  = q_a[1]\n",
    "        q_low_main = q_a[1]\n",
    "\n",
    "\n",
    "    # Doing the grid search.............\n",
    "\n",
    "    #N_grid_q => number of subintervals\n",
    "\n",
    "    q_bounds = np.linspace(q_low_main, q_up_main, N_grid_q+1)\n",
    "\n",
    "    feasible_q_founded = False\n",
    "\n",
    "    #for k_a, k_b, k_c in product(range(N_grid_q), repeat=3):   \n",
    "    for k_a in range(N_grid_q):\n",
    "        for k_b in range(k_a+1):\n",
    "            for k_c in range(k_b+1):\n",
    "\n",
    "                q_low_a = q_bounds[k_a]\n",
    "                q_up_a = q_bounds[k_a+1]\n",
    "\n",
    "                q_low_b = q_bounds[k_b]\n",
    "                q_up_b = q_bounds[k_b+1]\n",
    "\n",
    "                q_low_c = q_bounds[k_c]\n",
    "                q_up_c = q_bounds[k_c+1]\n",
    "\n",
    "\n",
    "                # upper bound...... and lower bound ...............\n",
    "                A_3a_up = np.zeros((8,64*3))\n",
    "                A_3a_low = np.zeros((8,64*3))\n",
    "\n",
    "                for a2,tb,tc in product(range(2),repeat=3):\n",
    "                    constraint_it = np.inner([4,2,1],[a2,tb,tc])\n",
    "                    for b2,c2 in product(range(2),repeat=2):\n",
    "                        var_it_0 = np.inner([32,16,8,4,2,1],[a2,b2,c2,0,tb,tc]) # ta = 0\n",
    "                        var_it_1 = np.inner([32,16,8,4,2,1],[a2,b2,c2,1,tb,tc]) # ta = 1\n",
    "                        A_3a_up[constraint_it, var_it_0] = -q_up_a\n",
    "                        A_3a_up[constraint_it, var_it_1] = (1-q_up_a)\n",
    "\n",
    "                        A_3a_low[constraint_it, var_it_0] = q_low_a\n",
    "                        A_3a_low[constraint_it, var_it_1] = -(1-q_low_a)\n",
    "\n",
    "\n",
    "                A_3b_up = np.zeros((8,64*3))\n",
    "                A_3b_low = np.zeros((8,64*3))\n",
    "                for b2,ta,tc in product(range(2),repeat=3):\n",
    "                    constraint_it = np.inner([4,2,1],[b2,ta,tc])\n",
    "                    for a2,c2 in product(range(2),repeat=2):\n",
    "                        var_it_0 = np.inner([32,16,8,4,2,1],[a2,b2,c2,ta,0,tc])# tb = 0\n",
    "                        var_it_1 = np.inner([32,16,8,4,2,1],[a2,b2,c2,ta,1,tc])# tb = 1\n",
    "                        A_3b_up[constraint_it, var_it_0] = -q_up_b\n",
    "                        A_3b_up[constraint_it, var_it_1] = (1-q_up_b)\n",
    "\n",
    "                        A_3b_low[constraint_it, var_it_0] = q_low_b\n",
    "                        A_3b_low[constraint_it, var_it_1] = -(1-q_low_b)\n",
    "\n",
    "\n",
    "                A_3c_up = np.zeros((8,64*3))\n",
    "                A_3c_low = np.zeros((8,64*3))\n",
    "\n",
    "                for c2,ta,tb in product(range(2),repeat=3):\n",
    "                    constraint_it = np.inner([4,2,1],[c2,ta,tb])\n",
    "                    for a2,b2 in product(range(2),repeat=2):\n",
    "                        var_it_0 = np.inner([32,16,8,4,2,1],[a2,b2,c2,ta,tb,0])# tc = 0\n",
    "                        var_it_1 = np.inner([32,16,8,4,2,1],[a2,b2,c2,ta,tb,1])# tc = 1\n",
    "                        A_3c_up[constraint_it, var_it_0] = -q_up_c\n",
    "                        A_3c_up[constraint_it, var_it_1] = (1-q_up_c)\n",
    "\n",
    "                        A_3c_low[constraint_it, var_it_0] = q_low_c\n",
    "                        A_3c_low[constraint_it, var_it_1] = -(1-q_low_c)\n",
    "\n",
    "\n",
    "\n",
    "\n",
    "                A_up = np.concatenate([A_3a_up,A_3b_up,A_3c_up, A_3a_low,A_3b_low,A_3c_low]) \n",
    "\n",
    "\n",
    "                res, xx = main_for_LP(c, A_eq, b_eq, A_up ,b_up,verbose=False)  \n",
    "\n",
    "                if res != mosek.solsta.prim_infeas_cer: #if feasible for some qs in the grid\n",
    "                    feasible_q_founded = True\n",
    "                    break\n",
    "\n",
    "\n",
    "    return (feasible_q_founded)*1 #output 1 if feasible!, and output the solution xx"
   ]
  },
  {
   "cell_type": "code",
   "execution_count": null,
   "id": "5d0c6b8a",
   "metadata": {},
   "outputs": [],
   "source": []
  },
  {
   "cell_type": "code",
   "execution_count": null,
   "id": "47fcb499",
   "metadata": {},
   "outputs": [],
   "source": []
  },
  {
   "cell_type": "code",
   "execution_count": null,
   "id": "53f8f57e",
   "metadata": {},
   "outputs": [],
   "source": []
  },
  {
   "cell_type": "markdown",
   "id": "1fac068e",
   "metadata": {},
   "source": [
    "# Best Noisy sources robustnes :\n",
    "### Binary search "
   ]
  },
  {
   "cell_type": "code",
   "execution_count": 51,
   "id": "c3d16ec7",
   "metadata": {},
   "outputs": [
    {
     "name": "stderr",
     "output_type": "stream",
     "text": [
      "  5%|██                                       | 1/20 [09:17<2:56:35, 557.66s/it]"
     ]
    },
    {
     "name": "stdout",
     "output_type": "stream",
     "text": [
      "New nonlocal W :  0.5 %\n"
     ]
    },
    {
     "name": "stderr",
     "output_type": "stream",
     "text": [
      " 25%|██████████▎                              | 5/20 [46:13<2:19:14, 556.99s/it]"
     ]
    },
    {
     "name": "stdout",
     "output_type": "stream",
     "text": [
      "New nonlocal W :  0.53125 %\n"
     ]
    },
    {
     "name": "stderr",
     "output_type": "stream",
     "text": [
      " 40%|███████████████▌                       | 8/20 [1:13:58<1:51:20, 556.68s/it]"
     ]
    },
    {
     "name": "stdout",
     "output_type": "stream",
     "text": [
      "New nonlocal W :  0.53515625 %\n"
     ]
    },
    {
     "name": "stderr",
     "output_type": "stream",
     "text": [
      " 50%|███████████████████                   | 10/20 [1:32:43<1:33:08, 558.80s/it]"
     ]
    },
    {
     "name": "stdout",
     "output_type": "stream",
     "text": [
      "New nonlocal W :  0.5361328125 %\n"
     ]
    },
    {
     "name": "stderr",
     "output_type": "stream",
     "text": [
      " 60%|██████████████████████▊               | 12/20 [1:51:30<1:14:47, 560.98s/it]"
     ]
    },
    {
     "name": "stdout",
     "output_type": "stream",
     "text": [
      "New nonlocal W :  0.536376953125 %\n"
     ]
    },
    {
     "name": "stderr",
     "output_type": "stream",
     "text": [
      "\r",
      " 65%|████████████████████████▋             | 13/20 [2:00:52<1:05:29, 561.41s/it]"
     ]
    },
    {
     "name": "stdout",
     "output_type": "stream",
     "text": [
      "New nonlocal W :  0.5364990234375 %\n"
     ]
    },
    {
     "name": "stderr",
     "output_type": "stream",
     "text": [
      " 75%|██████████████████████████████          | 15/20 [2:19:27<46:35, 559.13s/it]"
     ]
    },
    {
     "name": "stdout",
     "output_type": "stream",
     "text": [
      "New nonlocal W :  0.536529541015625 %\n"
     ]
    },
    {
     "name": "stderr",
     "output_type": "stream",
     "text": [
      " 85%|██████████████████████████████████      | 17/20 [2:37:50<27:46, 555.53s/it]"
     ]
    },
    {
     "name": "stdout",
     "output_type": "stream",
     "text": [
      "New nonlocal W :  0.5365371704101562 %\n"
     ]
    },
    {
     "name": "stderr",
     "output_type": "stream",
     "text": [
      "\r",
      " 90%|████████████████████████████████████    | 18/20 [2:47:04<18:30, 555.12s/it]"
     ]
    },
    {
     "name": "stdout",
     "output_type": "stream",
     "text": [
      "New nonlocal W :  0.5365409851074219 %\n"
     ]
    },
    {
     "name": "stderr",
     "output_type": "stream",
     "text": [
      "100%|████████████████████████████████████████| 20/20 [3:06:37<00:00, 559.86s/it]"
     ]
    },
    {
     "name": "stdout",
     "output_type": "stream",
     "text": [
      "New nonlocal W :  0.5365419387817382 %\n",
      "W_nonlocal :  0.5365419387817382 %\n",
      "W_local :  0.5365428924560547 %\n"
     ]
    },
    {
     "name": "stderr",
     "output_type": "stream",
     "text": [
      "\n"
     ]
    }
   ],
   "source": [
    "l0 = np.sqrt(0.220)\n",
    "phi_w = 0\n",
    "phi_u = 0.417\n",
    "\n",
    "honest_q= False\n",
    "N_grid_q = 64\n",
    "\n",
    "\n",
    "\n",
    "eta = 0\n",
    "W_local = 0.01\n",
    "W_nonlocal = 0\n",
    "\n",
    "\n",
    "for i in tqdm(range(20)):  \n",
    "    W_new = (W_local + W_nonlocal)/2\n",
    "    flag_local = get_single_exp_mosek(l0, eta, W_new, phi_u, phi_w, honest_q, N_grid_q)\n",
    "    if flag_local:\n",
    "        W_local = W_new\n",
    "    else:\n",
    "        W_nonlocal = W_new\n",
    "        print(\"New nonlocal W : \", W_nonlocal*100, \"%\")\n",
    "    \n",
    "\n",
    "\n",
    "print(\"W_nonlocal : \", W_nonlocal*100, \"%\")\n",
    "print(\"W_local : \", W_local*100, \"%\")"
   ]
  },
  {
   "cell_type": "code",
   "execution_count": 54,
   "id": "1df39cdb",
   "metadata": {},
   "outputs": [
    {
     "ename": "SyntaxError",
     "evalue": "invalid syntax (3376076823.py, line 1)",
     "output_type": "error",
     "traceback": [
      "\u001b[0;36m  Input \u001b[0;32mIn [54]\u001b[0;36m\u001b[0m\n\u001b[0;31m    0.5365%\u001b[0m\n\u001b[0m           ^\u001b[0m\n\u001b[0;31mSyntaxError\u001b[0m\u001b[0;31m:\u001b[0m invalid syntax\n"
     ]
    }
   ],
   "source": [
    "0.5365%"
   ]
  },
  {
   "cell_type": "code",
   "execution_count": 12,
   "id": "3cd09d84",
   "metadata": {},
   "outputs": [
    {
     "name": "stderr",
     "output_type": "stream",
     "text": [
      "  5%|█▊                                   | 1/20 [1:12:20<22:54:24, 4340.26s/it]"
     ]
    },
    {
     "name": "stdout",
     "output_type": "stream",
     "text": [
      "New nonlocal W :  0.5 %\n",
      "W_local :  1.0 %\n"
     ]
    },
    {
     "name": "stderr",
     "output_type": "stream",
     "text": [
      " 25%|█████████                           | 5/20 [12:33:50<30:14:08, 7256.55s/it]"
     ]
    },
    {
     "name": "stdout",
     "output_type": "stream",
     "text": [
      "New nonlocal W :  0.53125 %\n",
      "W_local :  0.5625 %\n"
     ]
    },
    {
     "name": "stderr",
     "output_type": "stream",
     "text": [
      " 35%|████████████▌                       | 7/20 [14:59:24<20:24:22, 5650.96s/it]"
     ]
    },
    {
     "name": "stdout",
     "output_type": "stream",
     "text": [
      "New nonlocal W :  0.5390625 %\n",
      "W_local :  0.546875 %\n"
     ]
    },
    {
     "name": "stderr",
     "output_type": "stream",
     "text": [
      "\r",
      " 40%|██████████████▍                     | 8/20 [16:12:15<17:28:39, 5243.26s/it]"
     ]
    },
    {
     "name": "stdout",
     "output_type": "stream",
     "text": [
      "New nonlocal W :  0.54296875 %\n",
      "W_local :  0.546875 %\n"
     ]
    },
    {
     "name": "stderr",
     "output_type": "stream",
     "text": [
      " 50%|█████████████████▌                 | 10/20 [18:38:08<13:18:01, 4788.15s/it]"
     ]
    },
    {
     "name": "stdout",
     "output_type": "stream",
     "text": [
      "New nonlocal W :  0.5439453125 %\n",
      "W_local :  0.544921875 %\n"
     ]
    },
    {
     "name": "stderr",
     "output_type": "stream",
     "text": [
      "\r",
      " 55%|███████████████████▎               | 11/20 [19:51:04<11:39:18, 4662.10s/it]"
     ]
    },
    {
     "name": "stdout",
     "output_type": "stream",
     "text": [
      "New nonlocal W :  0.54443359375 %\n",
      "W_local :  0.544921875 %\n"
     ]
    },
    {
     "name": "stderr",
     "output_type": "stream",
     "text": [
      " 65%|███████████████████████▍            | 13/20 [22:16:58<8:46:49, 4515.62s/it]"
     ]
    },
    {
     "name": "stdout",
     "output_type": "stream",
     "text": [
      "New nonlocal W :  0.5445556640625 %\n",
      "W_local :  0.544677734375 %\n"
     ]
    },
    {
     "name": "stderr",
     "output_type": "stream",
     "text": [
      "\r",
      " 70%|█████████████████████████▏          | 14/20 [24:36:24<9:27:50, 5678.48s/it]"
     ]
    },
    {
     "name": "stdout",
     "output_type": "stream",
     "text": [
      "New nonlocal W :  0.54461669921875 %\n",
      "W_local :  0.544677734375 %\n"
     ]
    },
    {
     "name": "stderr",
     "output_type": "stream",
     "text": [
      " 85%|██████████████████████████████▌     | 17/20 [32:38:33<7:59:40, 9593.55s/it]"
     ]
    },
    {
     "name": "stdout",
     "output_type": "stream",
     "text": [
      "New nonlocal W :  0.5446243286132814 %\n",
      "W_local :  0.5446319580078126 %\n"
     ]
    },
    {
     "name": "stderr",
     "output_type": "stream",
     "text": [
      "\r",
      " 90%|████████████████████████████████▍   | 18/20 [33:51:42<4:27:39, 8029.53s/it]"
     ]
    },
    {
     "name": "stdout",
     "output_type": "stream",
     "text": [
      "New nonlocal W :  0.544628143310547 %\n",
      "W_local :  0.5446319580078126 %\n"
     ]
    },
    {
     "name": "stderr",
     "output_type": "stream",
     "text": [
      " 90%|████████████████████████████████▍   | 18/20 [33:52:16<3:45:48, 6774.26s/it]\n",
      "\n",
      "KeyboardInterrupt\n",
      "\n"
     ]
    }
   ],
   "source": [
    "l0 = np.sqrt(0.220)\n",
    "phi_w = 0\n",
    "phi_u = 0.417\n",
    "\n",
    "honest_q= False\n",
    "N_grid_q = 128\n",
    "\n",
    "\n",
    "\n",
    "eta = 0\n",
    "W_local = 0.01\n",
    "W_nonlocal = 0\n",
    "\n",
    "\n",
    "for i in tqdm(range(20)):  \n",
    "    W_new = (W_local + W_nonlocal)/2\n",
    "    flag_local = get_single_exp_mosek(l0, eta, W_new, phi_u, phi_w, honest_q, N_grid_q)\n",
    "    if flag_local:\n",
    "        W_local = W_new\n",
    "    else:\n",
    "        W_nonlocal = W_new\n",
    "        print(\"New nonlocal W : \", W_nonlocal*100, \"%\")\n",
    "        print(\"W_local : \", W_local*100, \"%\")\n",
    "    \n",
    "\n",
    "\n",
    "print(\"W_nonlocal : \", W_nonlocal*100, \"%\")\n",
    "print(\"W_local : \", W_local*100, \"%\")"
   ]
  },
  {
   "cell_type": "code",
   "execution_count": null,
   "id": "7f15c88d",
   "metadata": {},
   "outputs": [],
   "source": []
  },
  {
   "cell_type": "markdown",
   "id": "4909efb8",
   "metadata": {},
   "source": [
    "# Best Noisy Measurment robustnes :\n",
    "### Binary search "
   ]
  },
  {
   "cell_type": "code",
   "execution_count": 52,
   "id": "762d2104",
   "metadata": {},
   "outputs": [
    {
     "name": "stderr",
     "output_type": "stream",
     "text": [
      " 10%|████                                    | 2/20 [44:55<6:04:30, 1215.01s/it]"
     ]
    },
    {
     "name": "stdout",
     "output_type": "stream",
     "text": [
      "New nonlocal eta :  0.25 %\n"
     ]
    },
    {
     "name": "stderr",
     "output_type": "stream",
     "text": [
      "\r",
      " 15%|█████▋                                | 3/20 [1:02:44<5:25:22, 1148.38s/it]"
     ]
    },
    {
     "name": "stdout",
     "output_type": "stream",
     "text": [
      "New nonlocal eta :  0.375 %\n"
     ]
    },
    {
     "name": "stderr",
     "output_type": "stream",
     "text": [
      "\r",
      " 20%|███████▊                               | 4/20 [1:12:15<4:05:25, 920.35s/it]"
     ]
    },
    {
     "name": "stdout",
     "output_type": "stream",
     "text": [
      "New nonlocal eta :  0.43750000000000006 %\n"
     ]
    },
    {
     "name": "stderr",
     "output_type": "stream",
     "text": [
      "\r",
      " 25%|█████████▊                             | 5/20 [1:21:47<3:18:43, 794.91s/it]"
     ]
    },
    {
     "name": "stdout",
     "output_type": "stream",
     "text": [
      "New nonlocal eta :  0.46875000000000006 %\n"
     ]
    },
    {
     "name": "stderr",
     "output_type": "stream",
     "text": [
      "\r",
      " 30%|███████████▋                           | 6/20 [1:31:18<2:47:40, 718.62s/it]"
     ]
    },
    {
     "name": "stdout",
     "output_type": "stream",
     "text": [
      "New nonlocal eta :  0.4843750000000001 %\n"
     ]
    },
    {
     "name": "stderr",
     "output_type": "stream",
     "text": [
      "\r",
      " 35%|█████████████▋                         | 7/20 [1:40:35<2:24:18, 666.02s/it]"
     ]
    },
    {
     "name": "stdout",
     "output_type": "stream",
     "text": [
      "New nonlocal eta :  0.4921875000000001 %\n"
     ]
    },
    {
     "name": "stderr",
     "output_type": "stream",
     "text": [
      "\r",
      " 40%|███████████████▌                       | 8/20 [1:49:46<2:05:52, 629.35s/it]"
     ]
    },
    {
     "name": "stdout",
     "output_type": "stream",
     "text": [
      "New nonlocal eta :  0.49609375 %\n"
     ]
    },
    {
     "name": "stderr",
     "output_type": "stream",
     "text": [
      " 50%|███████████████████                   | 10/20 [2:08:29<1:39:01, 594.15s/it]"
     ]
    },
    {
     "name": "stdout",
     "output_type": "stream",
     "text": [
      "New nonlocal eta :  0.4970703125 %\n"
     ]
    },
    {
     "name": "stderr",
     "output_type": "stream",
     "text": [
      "\r",
      " 55%|████████████████████▎                | 11/20 [4:31:29<7:35:43, 3038.21s/it]"
     ]
    },
    {
     "name": "stdout",
     "output_type": "stream",
     "text": [
      "New nonlocal eta :  0.49755859375 %\n"
     ]
    },
    {
     "name": "stderr",
     "output_type": "stream",
     "text": [
      " 75%|███████████████████████████▊         | 15/20 [5:09:26<1:36:10, 1154.12s/it]"
     ]
    },
    {
     "name": "stdout",
     "output_type": "stream",
     "text": [
      "New nonlocal eta :  0.49758911132812506 %\n"
     ]
    },
    {
     "name": "stderr",
     "output_type": "stream",
     "text": [
      "\r",
      " 80%|██████████████████████████████▍       | 16/20 [5:18:53<1:05:09, 977.49s/it]"
     ]
    },
    {
     "name": "stdout",
     "output_type": "stream",
     "text": [
      "New nonlocal eta :  0.4976043701171875 %\n"
     ]
    },
    {
     "name": "stderr",
     "output_type": "stream",
     "text": [
      "\r",
      " 85%|██████████████████████████████████      | 17/20 [5:28:32<42:52, 857.49s/it]"
     ]
    },
    {
     "name": "stdout",
     "output_type": "stream",
     "text": [
      "New nonlocal eta :  0.49761199951171875 %\n"
     ]
    },
    {
     "name": "stderr",
     "output_type": "stream",
     "text": [
      " 95%|██████████████████████████████████████  | 19/20 [5:47:32<11:51, 711.06s/it]"
     ]
    },
    {
     "name": "stdout",
     "output_type": "stream",
     "text": [
      "New nonlocal eta :  0.4976139068603516 %\n"
     ]
    },
    {
     "name": "stderr",
     "output_type": "stream",
     "text": [
      "100%|███████████████████████████████████████| 20/20 [5:56:47<00:00, 1070.36s/it]"
     ]
    },
    {
     "name": "stdout",
     "output_type": "stream",
     "text": [
      "New nonlocal eta :  0.497614860534668 %\n",
      "eta_nonlocal :  0.497614860534668 %\n",
      "eta_local :  0.4976158142089844 %\n"
     ]
    },
    {
     "name": "stderr",
     "output_type": "stream",
     "text": [
      "\n"
     ]
    }
   ],
   "source": [
    "l0 = np.sqrt(0.220)\n",
    "phi_w = 0\n",
    "phi_u = 0.417\n",
    "\n",
    "honest_q= False\n",
    "N_grid_q = 64\n",
    "\n",
    "\n",
    "\n",
    "W = 0\n",
    "eta_local = 0.01\n",
    "eta_nonlocal = 0\n",
    "\n",
    "\n",
    "for i in tqdm(range(20)):\n",
    "    \n",
    "    eta_new = (eta_local + eta_nonlocal)/2\n",
    "    flag_local = get_single_exp_mosek(l0, eta_new, W, phi_u, phi_w, honest_q, N_grid_q)\n",
    "    if flag_local:\n",
    "        eta_local = eta_new\n",
    "    else:\n",
    "        eta_nonlocal = eta_new\n",
    "        print(\"New nonlocal eta : \", eta_nonlocal*100, \"%\")\n",
    "    \n",
    "\n",
    "\n",
    "print(\"eta_nonlocal : \", eta_nonlocal*100, \"%\")\n",
    "print(\"eta_local : \", eta_local*100, \"%\")"
   ]
  },
  {
   "cell_type": "code",
   "execution_count": 53,
   "id": "88f73b3e",
   "metadata": {},
   "outputs": [
    {
     "ename": "SyntaxError",
     "evalue": "invalid syntax (370584452.py, line 1)",
     "output_type": "error",
     "traceback": [
      "\u001b[0;36m  Input \u001b[0;32mIn [53]\u001b[0;36m\u001b[0m\n\u001b[0;31m    eta_nonlocal :  0.497614860534668 %\u001b[0m\n\u001b[0m                                       ^\u001b[0m\n\u001b[0;31mSyntaxError\u001b[0m\u001b[0;31m:\u001b[0m invalid syntax\n"
     ]
    }
   ],
   "source": [
    "eta_nonlocal :  0.497614860534668 %"
   ]
  },
  {
   "cell_type": "code",
   "execution_count": null,
   "id": "144503c4",
   "metadata": {},
   "outputs": [
    {
     "name": "stderr",
     "output_type": "stream",
     "text": [
      "  5%|█▊                                   | 1/20 [1:12:55<23:05:43, 4375.99s/it]"
     ]
    },
    {
     "name": "stdout",
     "output_type": "stream",
     "text": [
      "New nonlocal eta :  0.5 %\n"
     ]
    },
    {
     "name": "stderr",
     "output_type": "stream",
     "text": [
      " 45%|████████████████▏                   | 9/20 [10:38:11<12:59:40, 4252.75s/it]"
     ]
    },
    {
     "name": "stdout",
     "output_type": "stream",
     "text": [
      "New nonlocal eta :  0.501953125 %\n"
     ]
    },
    {
     "name": "stderr",
     "output_type": "stream",
     "text": [
      "\r",
      " 50%|█████████████████▌                 | 10/20 [11:49:30<11:50:10, 4261.00s/it]"
     ]
    },
    {
     "name": "stdout",
     "output_type": "stream",
     "text": [
      "New nonlocal eta :  0.5029296875 %\n"
     ]
    },
    {
     "name": "stderr",
     "output_type": "stream",
     "text": [
      "\r",
      " 55%|███████████████████▎               | 11/20 [13:52:36<13:02:34, 5217.18s/it]"
     ]
    },
    {
     "name": "stdout",
     "output_type": "stream",
     "text": [
      "New nonlocal eta :  0.50341796875 %\n"
     ]
    },
    {
     "name": "stderr",
     "output_type": "stream",
     "text": [
      "\r",
      " 60%|█████████████████████              | 12/20 [15:02:21<10:53:45, 4903.24s/it]"
     ]
    },
    {
     "name": "stdout",
     "output_type": "stream",
     "text": [
      "New nonlocal eta :  0.5036621093750001 %\n"
     ]
    },
    {
     "name": "stderr",
     "output_type": "stream",
     "text": [
      "\r",
      " 65%|███████████████████████▍            | 13/20 [16:11:32<9:05:28, 4675.50s/it]"
     ]
    },
    {
     "name": "stdout",
     "output_type": "stream",
     "text": [
      "New nonlocal eta :  0.5037841796875 %\n"
     ]
    },
    {
     "name": "stderr",
     "output_type": "stream",
     "text": [
      "\r",
      " 70%|█████████████████████████▏          | 14/20 [17:53:16<8:30:41, 5106.87s/it]"
     ]
    },
    {
     "name": "stdout",
     "output_type": "stream",
     "text": [
      "New nonlocal eta :  0.5038452148437501 %\n"
     ]
    },
    {
     "name": "stderr",
     "output_type": "stream",
     "text": [
      " 85%|██████████████████████████████▌     | 17/20 [23:58:23<5:18:02, 6360.98s/it]"
     ]
    },
    {
     "name": "stdout",
     "output_type": "stream",
     "text": [
      "New nonlocal eta :  0.5038528442382814 %\n"
     ]
    },
    {
     "name": "stderr",
     "output_type": "stream",
     "text": [
      "\r",
      " 90%|████████████████████████████████▍   | 18/20 [25:07:19<3:09:44, 5692.19s/it]"
     ]
    }
   ],
   "source": [
    "l0 = np.sqrt(0.220)\n",
    "phi_w = 0\n",
    "phi_u = 0.417\n",
    "\n",
    "honest_q= False\n",
    "N_grid_q = 128\n",
    "\n",
    "\n",
    "\n",
    "W = 0\n",
    "eta_local = 0.01\n",
    "eta_nonlocal = 0\n",
    "\n",
    "\n",
    "for i in tqdm(range(20)):\n",
    "    \n",
    "    eta_new = (eta_local + eta_nonlocal)/2\n",
    "    flag_local = get_single_exp_mosek(l0, eta_new, W, phi_u, phi_w, honest_q, N_grid_q)\n",
    "    if flag_local:\n",
    "        eta_local = eta_new\n",
    "    else:\n",
    "        eta_nonlocal = eta_new\n",
    "        print(\"New nonlocal eta : \", eta_nonlocal*100, \"%\")\n",
    "    \n",
    "\n",
    "\n",
    "print(\"eta_nonlocal : \", eta_nonlocal*100, \"%\")\n",
    "print(\"eta_local : \", eta_local*100, \"%\")"
   ]
  },
  {
   "cell_type": "code",
   "execution_count": null,
   "id": "22690766",
   "metadata": {},
   "outputs": [],
   "source": []
  },
  {
   "cell_type": "code",
   "execution_count": null,
   "id": "f7669bcb",
   "metadata": {},
   "outputs": [],
   "source": []
  },
  {
   "cell_type": "code",
   "execution_count": null,
   "id": "90ac5720",
   "metadata": {},
   "outputs": [],
   "source": []
  }
 ],
 "metadata": {
  "kernelspec": {
   "display_name": "Python 3 (ipykernel)",
   "language": "python",
   "name": "python3"
  },
  "language_info": {
   "codemirror_mode": {
    "name": "ipython",
    "version": 3
   },
   "file_extension": ".py",
   "mimetype": "text/x-python",
   "name": "python",
   "nbconvert_exporter": "python",
   "pygments_lexer": "ipython3",
   "version": "3.9.12"
  }
 },
 "nbformat": 4,
 "nbformat_minor": 5
}
