{
 "cells": [
  {
   "cell_type": "code",
   "execution_count": 1,
   "id": "f826926d",
   "metadata": {},
   "outputs": [
    {
     "name": "stderr",
     "output_type": "stream",
     "text": [
      "/Users/sadra/opt/anaconda3/lib/python3.9/site-packages/scipy/__init__.py:146: UserWarning: A NumPy version >=1.16.5 and <1.23.0 is required for this version of SciPy (detected version 1.25.2\n",
      "  warnings.warn(f\"A NumPy version >={np_minversion} and <{np_maxversion}\"\n"
     ]
    }
   ],
   "source": [
    "import numpy as np\n",
    "from numpy import kron\n",
    "import math\n",
    "from math import sqrt\n",
    "from random import random\n",
    "\n",
    "from scipy.optimize import linprog\n",
    "\n",
    "import matplotlib.pyplot as plt\n",
    "import matplotlib as mpl\n",
    "\n",
    "from itertools import product\n",
    "\n",
    "from matplotlib import colors\n",
    "\n",
    "import time\n",
    "\n",
    "from tqdm import tqdm"
   ]
  },
  {
   "cell_type": "code",
   "execution_count": null,
   "id": "70f8e9cc",
   "metadata": {},
   "outputs": [],
   "source": []
  },
  {
   "cell_type": "code",
   "execution_count": null,
   "id": "c92b3046",
   "metadata": {},
   "outputs": [],
   "source": []
  },
  {
   "cell_type": "code",
   "execution_count": null,
   "id": "b13450e8",
   "metadata": {},
   "outputs": [],
   "source": []
  },
  {
   "cell_type": "code",
   "execution_count": 2,
   "id": "8d284a8c",
   "metadata": {},
   "outputs": [],
   "source": [
    "def new_index(x):   # 012345 --> 123450\n",
    "    b  = bin(x)[2:].zfill(6) # x in binary b0..b5\n",
    "    y = int(b[1:]+b[0], 2)\n",
    "    return y\n",
    "\n",
    "def change_qbit_order(x): # 012345 --> 123450\n",
    "    x_ordered = np.zeros_like(x)\n",
    "    for i in range(64):\n",
    "        for j in range(64):\n",
    "            x_ordered[new_index(i), new_index(j)] = x[i,j]\n",
    "    return x_ordered\n",
    "\n",
    "\n",
    "def PP(w,z,u,v,V,lambda_0,lambda_1):\n",
    "    \n",
    "    ## settign states\n",
    "    state_0 = np.array([1,0])\n",
    "    state_1 = np.array([0,1])\n",
    "    \n",
    "    state_00 = kron(state_0,state_0).reshape(4,1)\n",
    "    state_01 = kron(state_0,state_1).reshape(4,1)\n",
    "    state_10 = kron(state_1,state_0).reshape(4,1)\n",
    "    state_11 = kron(state_1,state_1).reshape(4,1)\n",
    "    \n",
    "    psi = (lambda_0*state_01 + lambda_1*state_10)\n",
    "    \n",
    "    \n",
    "    rho_noiseless = np.dot(psi, psi.T)\n",
    "    \n",
    "    \n",
    "    rho = V*rho_noiseless + ((1-V)/4)*np.identity(4)\n",
    "    \n",
    "    total_rho = kron(kron(rho,rho),rho)\n",
    "    \n",
    "    \n",
    "    total_rho_ordered = change_qbit_order(total_rho)\n",
    "\n",
    "    \n",
    "    # Setting Measurment \n",
    "    out_00 = z*state_00 + w*state_11\n",
    "    out_01 = w*state_00 - z*state_11\n",
    "    out_10 = u*state_01 + v*state_10\n",
    "    out_11 = v*state_01 - u*state_10\n",
    "    \n",
    "    M_state = np.array([[out_00, out_01],[out_10, out_11]])\n",
    "    \n",
    "    ## Resulting distribution\n",
    "    \n",
    "    p = np.zeros((2,2,2,2,2,2))\n",
    "\n",
    "    for a1,a2,b1,b2,c1,c2 in product(range(2), repeat=6):\n",
    "    \n",
    "        total_M_state = kron(kron(M_state[a1,a2], M_state[b1,b2]), M_state[c1,c2])\n",
    "        E = np.dot(total_M_state, total_M_state.T)\n",
    "        p[a1,a2,b1,b2,c1,c2] = np.trace(np.dot(E, total_rho_ordered))\n",
    "\n",
    "    return p\n",
    "\n",
    "# find epsilon...... it only depens on  V !!!\n",
    "\n",
    "#%%\n",
    "import sys\n",
    "import mosek\n",
    "import scipy.sparse as sp\n",
    "# Since the value of infinity is ignored, we define it solely\n",
    "# for symbolic purposes\n",
    "inf = 1.0\n",
    "\n",
    "# Define a stream printer to grab output from MOSEK\n",
    "def streamprinter(text):\n",
    "    sys.stdout.write(text)\n",
    "    sys.stdout.flush()\n",
    "    \n",
    "def main_for_LP(c, A_eq, b_eq, A_ub ,b_ub, verbose=False):\n",
    "    # Create a task object\n",
    "    A = np.vstack((A_eq,A_ub))\n",
    "    A = sp.coo_matrix(A)\n",
    "    \n",
    "    with mosek.Env() as env:\n",
    "        with env.Task(0, 0) as task:\n",
    "            # Attach a log stream printer to the task\n",
    "            if verbose:\n",
    "                task.set_Stream(mosek.streamtype.log, streamprinter)\n",
    "    \n",
    "            # Bound keys for constraints\n",
    "            bkc = [mosek.boundkey.fx for i in range(len(A_eq))]+[mosek.boundkey.ra for i in range(len(A_ub))]\n",
    "    \n",
    "            # Bound values for constraints\n",
    "            buc = list(b_eq)+list(b_ub)\n",
    "            blc = list(b_eq)+[-inf for i in range(len(buc))]\n",
    "            \n",
    "            # Bound keys for variables\n",
    "            bkx = [mosek.boundkey.ra for i in range(len(c))]\n",
    "    \n",
    "            # Bound values for variables\n",
    "            blx = [0.0 for i in range(len(c))]\n",
    "            bux = [1.0 for i in range(len(c))]\n",
    "    \n",
    "            numvar = len(bkx)\n",
    "            numcon = len(bkc)\n",
    "\n",
    "            # Append 'numcon' empty constraints.\n",
    "            # The constraints will initially have no bounds.\n",
    "            task.appendcons(numcon)\n",
    "    \n",
    "            # Append 'numvar' variables.\n",
    "            # The variables will initially be fixed at zero (x=0).\n",
    "            task.appendvars(numvar)\n",
    "    \n",
    "            for j in range(numvar):\n",
    "                # Set the linear term c_j in the objective.\n",
    "                task.putcj(j, c[j])\n",
    "    \n",
    "                # Set the bounds on variable j\n",
    "                # blx[j] <= x_j <= bux[j]\n",
    "                task.putvarbound(j, bkx[j], blx[j], bux[j])\n",
    "    \n",
    "                # Input column j of A\n",
    "            task.putaijlist(list(A.row),list(A.col),list(A.data))          \n",
    "    \n",
    "            # Set the bounds on constraints.\n",
    "             # blc[i] <= constraint_i <= buc[i]\n",
    "            for i in range(numcon):\n",
    "                task.putconbound(i, bkc[i], blc[i], buc[i])\n",
    "    \n",
    "            # Input the objective sense (minimize/maximize)\n",
    "            task.putobjsense(mosek.objsense.minimize)\n",
    "    \n",
    "            # Solve the problem\n",
    "            task.optimize()\n",
    "            # Print a summary containing information\n",
    "            # about the solution for debugging purposes\n",
    "            if verbose:\n",
    "                task.solutionsummary(mosek.streamtype.msg)\n",
    "    \n",
    "            # Get status information about the solution\n",
    "            solsta = task.getsolsta(mosek.soltype.bas)\n",
    "    \n",
    "            #if (solsta == mosek.solsta.optimal):\n",
    "            #xx = [0.0] * numvar\n",
    "            #task.getxx(mosek.soltype.itr, xx)\n",
    "                #print(\"Optimal solution: \")\n",
    "                #for i in range(numvar):\n",
    "                #    print(\"x[\" + str(i) + \"]=\" + str(xx[i]))\n",
    "            #elif (solsta == mosek.solsta.dual_infeas_cer or\n",
    "            #      solsta == mosek.solsta.prim_infeas_cer):\n",
    "            #    if verbose:\n",
    "            #        print(\"Primal or dual infeasibility certificate found.\\n\")\n",
    "            #elif solsta == mosek.solsta.unknown:\n",
    "            #    print(\"Unknown solution status\")\n",
    "            #else:\n",
    "            #    print(\"Other solution status\")\n",
    "            #obje = task.getprimalobj(mosek.soltype.itr)\n",
    "            #if verbose:\n",
    "            #    print(obje)\n",
    "            return solsta\n",
    "        "
   ]
  },
  {
   "cell_type": "code",
   "execution_count": 3,
   "id": "f43b6390",
   "metadata": {},
   "outputs": [],
   "source": [
    "def main_for_LP_noise_less(c, A_eq, b_eq, verbose=False):\n",
    "    # Create a task object\n",
    "\n",
    "    A = sp.coo_matrix(A_eq)\n",
    "    \n",
    "    with mosek.Env() as env:\n",
    "        with env.Task(0, 0) as task:\n",
    "            # Attach a log stream printer to the task\n",
    "            if verbose:\n",
    "                task.set_Stream(mosek.streamtype.log, streamprinter)\n",
    "    \n",
    "            # Bound keys for constraints\n",
    "            bkc = [mosek.boundkey.fx for i in range(len(A_eq))]\n",
    "    \n",
    "            # Bound values for constraints\n",
    "            buc = list(b_eq)\n",
    "            blc = list(b_eq)\n",
    "            \n",
    "            # Bound keys for variables\n",
    "            bkx = [mosek.boundkey.ra for i in range(len(c))]\n",
    "    \n",
    "            # Bound values for variables\n",
    "            blx = [0.0 for i in range(len(c))]\n",
    "            bux = [1.0 for i in range(len(c))]\n",
    "    \n",
    "            numvar = len(bkx)\n",
    "            numcon = len(bkc)\n",
    "\n",
    "            # Append 'numcon' empty constraints.\n",
    "            # The constraints will initially have no bounds.\n",
    "            task.appendcons(numcon)\n",
    "    \n",
    "            # Append 'numvar' variables.\n",
    "            # The variables will initially be fixed at zero (x=0).\n",
    "            task.appendvars(numvar)\n",
    "    \n",
    "            for j in range(numvar):\n",
    "                # Set the linear term c_j in the objective.\n",
    "                task.putcj(j, c[j])\n",
    "    \n",
    "                # Set the bounds on variable j\n",
    "                # blx[j] <= x_j <= bux[j]\n",
    "                task.putvarbound(j, bkx[j], blx[j], bux[j])\n",
    "    \n",
    "                # Input column j of A\n",
    "            task.putaijlist(list(A.row),list(A.col),list(A.data))          \n",
    "    \n",
    "            # Set the bounds on constraints.\n",
    "             # blc[i] <= constraint_i <= buc[i]\n",
    "            for i in range(numcon):\n",
    "                task.putconbound(i, bkc[i], blc[i], buc[i])\n",
    "    \n",
    "            # Input the objective sense (minimize/maximize)\n",
    "            task.putobjsense(mosek.objsense.minimize)\n",
    "    \n",
    "            # Solve the problem\n",
    "            task.optimize()\n",
    "            # Print a summary containing information\n",
    "            # about the solution for debugging purposes\n",
    "            if verbose:\n",
    "                task.solutionsummary(mosek.streamtype.msg)\n",
    "    \n",
    "            # Get status information about the solution\n",
    "            solsta = task.getsolsta(mosek.soltype.bas)\n",
    "    \n",
    "            #if (solsta == mosek.solsta.optimal):\n",
    "            #xx = [0.0] * numvar\n",
    "            #task.getxx(mosek.soltype.itr, xx)\n",
    "                #print(\"Optimal solution: \")\n",
    "                #for i in range(numvar):\n",
    "                #    print(\"x[\" + str(i) + \"]=\" + str(xx[i]))\n",
    "            #elif (solsta == mosek.solsta.dual_infeas_cer or\n",
    "            #      solsta == mosek.solsta.prim_infeas_cer):\n",
    "            #    if verbose:\n",
    "            #        print(\"Primal or dual infeasibility certificate found.\\n\")\n",
    "            #elif solsta == mosek.solsta.unknown:\n",
    "            #    print(\"Unknown solution status\")\n",
    "            #else:\n",
    "            #    print(\"Other solution status\")\n",
    "            #obje = task.getprimalobj(mosek.soltype.itr)\n",
    "            #if verbose:\n",
    "            #    print(obje)\n",
    "            return solsta\n"
   ]
  },
  {
   "cell_type": "code",
   "execution_count": null,
   "id": "b73d0f9a",
   "metadata": {},
   "outputs": [],
   "source": []
  },
  {
   "cell_type": "markdown",
   "id": "975b9b01",
   "metadata": {},
   "source": [
    "## Noiseless LP"
   ]
  },
  {
   "cell_type": "code",
   "execution_count": 6,
   "id": "142512ad",
   "metadata": {},
   "outputs": [],
   "source": [
    "def get_result_map_mosek_noise_less(l0, N_it_u, N_it_w):   #l0 --> lambda0 \n",
    "\n",
    "\n",
    "    l1 = np.sqrt(1-l0**2)\n",
    "    \n",
    "    q = l0**2  #probability of sending token to right/left?\n",
    "\n",
    "    q_a = [q, 1-q]\n",
    "    q_b = [q, 1-q]\n",
    "    q_c = [q, 1-q]\n",
    "\n",
    "    c = np.ones(64) \n",
    "\n",
    "\n",
    "    # Form the matrix A\n",
    "\n",
    "    #First we consider the probability constraints \n",
    "\n",
    "    A_1 = np.zeros((64,64))\n",
    "\n",
    "    for a1,a2,b1,b2,c1,c2 in product(range(2), repeat=6):\n",
    "        constraint_it = np.inner([32,16,8,4,2,1],[a1,a2,b1,b2,c1,c2])\n",
    "        for ta,tb,tc in product(range(2), repeat=3): \n",
    "            if (a1 == (tb+tc+1)%2) and (b1 == (ta+tc+1)%2) and (c1 == (ta+tb+1)%2): # ParityCheck\n",
    "                var_it = np.inner([32,16,8,4,2,1],[a2,b2,c2,ta,tb,tc])\n",
    "                A_1[constraint_it, var_it] = 1\n",
    "\n",
    "\n",
    "\n",
    "    #Now we consider the network independence constraints\n",
    "\n",
    "    A_3a = np.zeros((8,64))\n",
    "    for a2,tb,tc in product(range(2),repeat=3):\n",
    "        constraint_it = np.inner([4,2,1],[a2,tb,tc])\n",
    "        for b2,c2 in product(range(2),repeat=2):\n",
    "            var_it_0 = np.inner([32,16,8,4,2,1],[a2,b2,c2,0,tb,tc]) # ta = 0\n",
    "            var_it_1 = np.inner([32,16,8,4,2,1],[a2,b2,c2,1,tb,tc]) # ta = 1\n",
    "            A_3a[constraint_it, var_it_0] = q_a[1]/q_a[0]\n",
    "            A_3a[constraint_it, var_it_1] = -1\n",
    "\n",
    "\n",
    "    A_3b = np.zeros((8,64))\n",
    "    for b2,ta,tc in product(range(2),repeat=3):\n",
    "        constraint_it = np.inner([4,2,1],[b2,ta,tc])\n",
    "        for a2,c2 in product(range(2),repeat=2):\n",
    "            var_it_0 = np.inner([32,16,8,4,2,1],[a2,b2,c2,ta,0,tc])# tb = 0\n",
    "            var_it_1 = np.inner([32,16,8,4,2,1],[a2,b2,c2,ta,1,tc])# tb = 1\n",
    "            A_3b[constraint_it, var_it_0] = q_b[1]/q_b[0]\n",
    "            A_3b[constraint_it, var_it_1] = -1\n",
    "\n",
    "\n",
    "    A_3c = np.zeros((8,64))\n",
    "    for c2,ta,tb in product(range(2),repeat=3):\n",
    "        constraint_it = np.inner([4,2,1],[c2,ta,tb])\n",
    "        for a2,b2 in product(range(2),repeat=2):\n",
    "            var_it_0 = np.inner([32,16,8,4,2,1],[a2,b2,c2,ta,tb,0])# tc = 0\n",
    "            var_it_1 = np.inner([32,16,8,4,2,1],[a2,b2,c2,ta,tb,1])# tc = 1\n",
    "            A_3c[constraint_it, var_it_0] = q_c[1]/q_c[0]\n",
    "            A_3c[constraint_it, var_it_1] = -1\n",
    "\n",
    "\n",
    "\n",
    "\n",
    "    A = np.concatenate([A_1,A_3a,A_3b,A_3c])  \n",
    "\n",
    "    #remove the redundant rows\n",
    "    #_, inds = sympy.Matrix(A).T.rref()   # I transposed to check for the rows \n",
    "    #A = A[np.array(inds)]\n",
    "    #print(\"Number of independent equations\", A.shape[0])\n",
    "\n",
    "    #print(\"Size of The LP system: \", A.shape)\n",
    "\n",
    "\n",
    "\n",
    "\n",
    "    phi_u_list = np.linspace(0, np.pi/2, num = N_it_u)\n",
    "    phi_w_list = np.linspace(0, np.pi/4, num = N_it_w) \n",
    "\n",
    "    result_map = np.zeros((N_it_u, N_it_w)) \n",
    "    \n",
    "    for i in tqdm(range(N_it_u)):\n",
    "        for j in range(N_it_w):\n",
    "            tic1 = time.perf_counter()\n",
    "            phi_u = phi_u_list[i]\n",
    "            phi_w = phi_w_list[j]\n",
    "            \n",
    "            prob = PP(np.cos(phi_w), np.sin(phi_w), np.cos(phi_u), np.sin(phi_u),1,l0,l1) #V=1 No noise\n",
    "\n",
    "\n",
    "            # Form the vector b            \n",
    "            b_1 = np.zeros(64)\n",
    "            for a1,a2,b1,b2,c1,c2 in product(range(2), repeat=6):\n",
    "                constraint_it = np.inner([32,16,8,4,2,1],[a1,a2,b1,b2,c1,c2])\n",
    "                b_1[constraint_it] = prob[a1,a2,b1,b2,c1,c2]\n",
    "\n",
    "            b_3 = np.zeros(24)\n",
    "\n",
    "\n",
    "            b = np.concatenate([b_1,b_3])\n",
    "            #b = b[np.array(inds)] # remove the redundent\n",
    "\n",
    "\n",
    "            res = main_for_LP_noise_less(c, A_eq=A, b_eq=b, verbose=False)  #???\n",
    "\n",
    "            if res == mosek.solsta.prim_infeas_cer: #inside infeasible range\n",
    "                result_map[i, j] = 1\n",
    "                \n",
    "    ## Add the other half side for w\n",
    "    result_map_flip = np.flip(result_map, 1)\n",
    "    result_map_final = np.concatenate((result_map, result_map_flip), axis=1)\n",
    "\n",
    "                \n",
    "    return result_map_final\n"
   ]
  },
  {
   "cell_type": "code",
   "execution_count": 7,
   "id": "95a39f70",
   "metadata": {},
   "outputs": [],
   "source": [
    "def plot(result_map):\n",
    "    fig, ax = plt.subplots(figsize=(7,7))\n",
    "    # using ListedColormap method from the colors package we can define a color map\n",
    "    colormap = colors.ListedColormap([\"lightyellow\",\"dodgerblue\"])\n",
    "    # handing this problem over to \n",
    "    plt.imshow(result_map,\n",
    "                 cmap=colormap,  extent=[0,np.pi/2,0,np.pi/2], origin='lower')\n",
    "    plt.xlabel(\"$\\phi_1 \\ [w=cos(\\phi_1)]$\",\n",
    "                 size = 14)\n",
    "    plt.ylabel(\"$\\phi_2 \\ [u=cos(\\phi_2)]$\",\n",
    "                 size = 14)\n",
    "\n",
    "    plt.show() \n"
   ]
  },
  {
   "cell_type": "code",
   "execution_count": 8,
   "id": "4c198895",
   "metadata": {},
   "outputs": [],
   "source": [
    "def print_uw_nonlocal(result_map, N_it_u, N_it_w):\n",
    "\n",
    "    phi_u_list = np.linspace(0, np.pi/2, num = N_it_u)\n",
    "    phi_w_list = np.linspace(0, np.pi/2, num = N_it_w) \n",
    "\n",
    "    nl_indx_phi_u, nl_indx_phi_w = np.where(result_map==1)\n",
    "\n",
    "    print(\"Nonlocality found setting for:\")\n",
    "\n",
    "    for i in range(len(nl_indx_phi_u)):\n",
    "        print(\"phi_u: \", phi_u_list[nl_indx_phi_u[i]], \"  phi_w: \",phi_w_list[nl_indx_phi_w[i]])\n",
    "\n"
   ]
  },
  {
   "cell_type": "code",
   "execution_count": null,
   "id": "5599c59c",
   "metadata": {},
   "outputs": [],
   "source": []
  },
  {
   "cell_type": "code",
   "execution_count": null,
   "id": "cc971c3a",
   "metadata": {},
   "outputs": [],
   "source": []
  },
  {
   "cell_type": "markdown",
   "id": "3c6131c3",
   "metadata": {},
   "source": [
    "# Single experiment with TV distance $\\epsilon$"
   ]
  },
  {
   "cell_type": "code",
   "execution_count": null,
   "id": "1d7e368b",
   "metadata": {},
   "outputs": [],
   "source": [
    "f_\\epsilon"
   ]
  },
  {
   "cell_type": "markdown",
   "id": "ed1ab81f",
   "metadata": {},
   "source": [
    "### The LP:\n",
    "\n",
    "$$P_{PTC}^{main}(a_1,a_2,b_1,b_2,c_1,c_2) = P_{PTC}^{New}(a_1,a_2,b_1,b_2,c_1,c_2) + (f_\\epsilon+\\epsilon) ~ x(a_1,a_2,b_1,b_2,c_1,c_2) - (f_\\epsilon+\\epsilon) ~ y(a_1,a_2,b_1,b_2,c_1,c_2) \\Rightarrow$$\n",
    "\n",
    "\n",
    "$$\\boxed{P_{PTC}^{main}(a_1,a_2,b_1,b_2,c_1,c_2) =\\sum_{t_a, t_b, t_c \\Rightarrow a_1, b_1, c_1}{P(a_2,b_2,c_2, t_a, t_b, t_c)} + (f_\\epsilon+\\epsilon) ~ x(a_1,a_2,b_1,b_2,c_1,c_2) - (f_\\epsilon+\\epsilon) ~ y(a_1,a_2,b_1,b_2,c_1,c_2)} $$\n",
    "\n",
    "\n",
    "$$ \\boxed{\\sum x(a_1,a_2,b_1,b_2,c_1,c_2) = 1 = \\sum y(a_1,a_2,b_1,b_2,c_1,c_2)}$$\n",
    "\n",
    "for $\\alpha = \\frac{\\epsilon}{(f_\\epsilon+\\epsilon)}$, we have:\n",
    "$\\delta_{TV}(x(a_2,b_2,c_2), y(a_2,b_2,c_2)) \\leq \\alpha  \\Rightarrow x(a_2,b_2,c_2) =y(a_2,b_2,c_2)-\\alpha y'(a_2,b_2,c_2) +\\alpha x'(a_2,b_2,c_2) \\Rightarrow $\n",
    "\n",
    "$$\\boxed{\\sum_{a_1,b_1,c_1} x(a_1,a_2,b_1,b_2,c_1,c_2) -  \\sum_{a_1,b_1,c_1} y(a_1,a_2,b_1,b_2,c_1,c_2) +\\alpha y'(a_2,b_2,c_2) -\\alpha x'(a_2,b_2,c_2)=0} $$\n",
    "\n",
    "$$ \\boxed{\\sum x'(a_2,b_2,c_2) = 1 = \\sum y'(a_2,b_2,c_2)}$$\n",
    "\n",
    "\n",
    "\n",
    "\n",
    "\n",
    "and Network constraint:\n",
    "\n",
    "$$P(a_2|0, t_b, t_c) = P(a_2|1, t_b, t_c) \\Leftrightarrow q(t_a = 1) \\sum_{b_2,c_2}  {P(a_2,b_2,c_2,0, t_b, t_c)} -  q(t_a = 0) \\sum_{b_2,c_2}P(a_2,b_2,c_2,1, t_b, t_c) = 0$$\n",
    "\n",
    "\n",
    "$|E_A^{main} - E_A^{New}| \\leq 2(f_\\epsilon+\\epsilon)$:\n",
    "\n",
    "$$ q_{low} = \\frac{1}{2}(1+\\sqrt{\\frac{(E_A^{main}-2(f_\\epsilon+\\epsilon))(E_A^{main}-2(f_\\epsilon+\\epsilon))}{E_A^{main}+2(f_\\epsilon+\\epsilon)}}) \\leq q(t_a = 1) = \\frac{1}{2}(1+\\sqrt{\\frac{E_B E_C}{E_A}}) \\leq \\frac{1}{2}(1+\\sqrt{\\frac{(E_A^{main}+2(f_\\epsilon+\\epsilon))(E_A^{main}+2(f_\\epsilon+\\epsilon))}{E_A^{main}-2(f_\\epsilon+\\epsilon)}}) = q_{up}$$\n",
    "\n",
    "\n",
    "\n",
    "\n",
    "\n",
    "Then we have: \n",
    "\n",
    "\n",
    "\n",
    "$$\\boxed{ q_{low} \\sum_{b_2,c_2}  {P(a_2,b_2,c_2,0, t_b, t_c)} - (1-q_{low}) \\sum_{b_2,c_2}P(a_2,b_2,c_2,1, t_b, t_c) \\leq 0 \\leq q_{up} \\sum_{b_2,c_2}  {P(a_2,b_2,c_2,0, t_b, t_c)} - (1-q_{up}) \\sum_{b_2,c_2}P(a_2,b_2,c_2,1, t_b, t_c)}$$\n"
   ]
  },
  {
   "cell_type": "code",
   "execution_count": 9,
   "id": "b2717b7b",
   "metadata": {},
   "outputs": [],
   "source": [
    "# vars order are : P,x,y,x',y'"
   ]
  },
  {
   "cell_type": "code",
   "execution_count": 10,
   "id": "9740689a",
   "metadata": {},
   "outputs": [],
   "source": [
    "def f(eps):\n",
    "    if eps<=1/4:\n",
    "        f = 1/2 + eps - (1-4*eps)/(2*np.sqrt(1-2*eps))\n",
    "    else:\n",
    "        f=1/2+eps\n",
    "    return f"
   ]
  },
  {
   "cell_type": "code",
   "execution_count": 18,
   "id": "8c017f68",
   "metadata": {},
   "outputs": [],
   "source": [
    "def get_single_exp_mosek(l0, eps , phi_u, phi_w, honest_q=False, N_grid_q=1):   # W = 1-visibility\n",
    "    \n",
    "    #l0 = np.sqrt(1/3)  #lambda0\n",
    "    l1 = np.sqrt(1-l0**2)\n",
    "    \n",
    "\n",
    "    q = l0**2  #probability of sending token to right/left?\n",
    "\n",
    "    q_a = [q, 1-q]\n",
    "    q_b = [q, 1-q]\n",
    "    q_c = [q, 1-q]\n",
    "\n",
    "    c = np.zeros(64*3+8*2)  # number of vars = 208 ....\n",
    "\n",
    "\n",
    "    # Form the matrix A\n",
    "\n",
    "    #First we consider the probability constraints \n",
    "    A_1 = np.zeros((64, 64*3+8*2))\n",
    "\n",
    "    for a1,a2,b1,b2,c1,c2 in product(range(2), repeat=6):\n",
    "        constraint_it = np.inner([32,16,8,4,2,1],[a1,a2,b1,b2,c1,c2])\n",
    "        for ta,tb,tc in product(range(2), repeat=3): \n",
    "            if (a1 == (tb+tc+1)%2) and (b1 == (ta+tc+1)%2) and (c1 == (ta+tb+1)%2): # ParityCheck\n",
    "                var_it = np.inner([32,16,8,4,2,1],[a2,b2,c2,ta,tb,tc])\n",
    "                A_1[constraint_it, var_it] = 1\n",
    "        A_1[constraint_it, constraint_it+64] = f(eps)+eps  # ---> x coef\n",
    "        A_1[constraint_it, constraint_it+(64*2)] = -(f(eps)+eps)  # ---> y coef\n",
    "\n",
    "\n",
    "    #Normalization for x and y\n",
    "    A_1_norm_xy = np.zeros((2, 64*3+8*2))    \n",
    "    for a1,a2,b1,b2,c1,c2 in product(range(2), repeat=6):\n",
    "        temp = np.inner([32,16,8,4,2,1],[a1,a2,b1,b2,c1,c2])\n",
    "        A_1_norm_xy[0, temp+64] = 1 # ---> x coef\n",
    "        A_1_norm_xy[1, temp+(64*2)] = 1 # ---> y coef\n",
    "\n",
    "    # sum over a1,b1,c1 for x and y are 1/3 close in TV...\n",
    "    A_x2y2 =  np.zeros((8, 64*3+8*2))\n",
    "    for a2,b2,c2 in product(range(2), repeat=3):  \n",
    "        constraint_it = np.inner([4,2,1],[a2,b2,c2]) \n",
    "        for a1,b1,c1 in product(range(2), repeat=3):\n",
    "            temp = np.inner([32,16,8,4,2,1],[a1,a2,b1,b2,c1,c2])\n",
    "            A_x2y2[constraint_it, temp+64] = 1 # ---> x coef\n",
    "            A_x2y2[constraint_it, temp+(64*2)] = -1  # ---> y coef\n",
    "            \n",
    "            if eps == 0:\n",
    "                alpha = 0\n",
    "            else:\n",
    "                alpha = eps/(f(eps)+eps)\n",
    "                \n",
    "            A_x2y2[constraint_it, constraint_it+(64*3)] = -alpha # ---> x' coef\n",
    "            A_x2y2[constraint_it, constraint_it+(64*3)+8] = alpha # ---> y' coef\n",
    "            \n",
    "            \n",
    "    #Normalization for x' and y' \n",
    "    A_1_norm_xy_prime = np.zeros((2, 64*3+8*2))\n",
    "    for a2,b2,c2 in product(range(2), repeat=3):\n",
    "        temp = np.inner([4,2,1],[a2,b2,c2])\n",
    "        A_1_norm_xy_prime[0, temp+(64*3)] = 1 # ---> x' coef\n",
    "        A_1_norm_xy_prime[1, temp+(64*3)+8] = 1 # ---> y' coef\n",
    "    \n",
    "\n",
    "\n",
    "    A_eq = np.concatenate([A_1,A_1_norm_xy,A_x2y2,A_1_norm_xy_prime])\n",
    "    \n",
    "    \n",
    "    #form part of b that doesnt depend on distribution\n",
    "    b_1_normxy = np.ones(2)\n",
    "    b_x2y2 = np.zeros(8)\n",
    "    b_3_up = np.zeros(24)\n",
    "    b_3_low = np.zeros(24)\n",
    "    b_1_normxy_prime = np.ones(2)\n",
    "\n",
    "\n",
    "    prob = PP(np.cos(phi_w), np.sin(phi_w), np.cos(phi_u), np.sin(phi_u),1,l0,l1) #V=1 No noise\n",
    "\n",
    "\n",
    "    # Form the vector b            \n",
    "    b_1 = np.zeros(64)\n",
    "    for a1,a2,b1,b2,c1,c2 in product(range(2), repeat=6):\n",
    "        constraint_it = np.inner([32,16,8,4,2,1],[a1,a2,b1,b2,c1,c2])\n",
    "        b_1[constraint_it] = prob[a1,a2,b1,b2,c1,c2]\n",
    "\n",
    "\n",
    "\n",
    "    b_eq = np.concatenate([b_1,b_1_normxy,b_x2y2,b_1_normxy_prime])\n",
    "\n",
    "    b_up = np.concatenate([b_3_up, b_3_low])\n",
    "\n",
    "\n",
    "\n",
    "    # Continue A\n",
    "    # Now we consider the network independence constraints\n",
    "    '''\n",
    "    E_A_obs = 2*np.sum(prob[1,:,:,:,:,:])-1\n",
    "    q_up  = 0.5*(1+np.sqrt(E_A_obs+4*eps))   #q_a[1] \n",
    "    q_low = 0.5*(1+np.sqrt(E_A_obs-4*eps))   #q_a[1]\n",
    "    '''\n",
    "\n",
    "    if honest_q == False:\n",
    "        \n",
    "        delta = f(eps)+eps\n",
    "\n",
    "        E_A_obs_ptc = np.abs(2*(np.sum(prob[0,:,0,:,1,:]) + np.sum(prob[0,:,1,:,0,:]) )-1) #for q_a(0) inside ptc\n",
    "\n",
    "        q_up_main  = 0.5*(1+((E_A_obs_ptc + 2*delta)/np.sqrt(E_A_obs_ptc - 2*delta)))\n",
    "        q_up_main  = min(1, q_up_main)\n",
    "\n",
    "        q_low_main = 0.5*(1+((E_A_obs_ptc - 2*delta)/np.sqrt(E_A_obs_ptc + 2*delta)))\n",
    "        q_low_main = max(0,q_low_main)\n",
    "\n",
    "    else:\n",
    "        q_up_main  = q_a[1]\n",
    "        q_low_main = q_a[1]\n",
    "\n",
    "\n",
    "    # Doing the grid search.............\n",
    "\n",
    "    #N_grid_q => number of subintervals\n",
    "\n",
    "    q_bounds = np.linspace(q_low_main, q_up_main, N_grid_q+1)\n",
    "\n",
    "    feasible_q_founded = False\n",
    "\n",
    "    #for k_a, k_b, k_c in product(range(N_grid_q), repeat=3):\n",
    "    for k_a in range(N_grid_q):\n",
    "        for k_b in range(k_a+1):\n",
    "            for k_c in range(k_b+1):\n",
    "\n",
    "                q_low_a = q_bounds[k_a]\n",
    "                q_up_a = q_bounds[k_a+1]\n",
    "\n",
    "                q_low_b = q_bounds[k_b]\n",
    "                q_up_b = q_bounds[k_b+1]\n",
    "\n",
    "                q_low_c = q_bounds[k_c]\n",
    "                q_up_c = q_bounds[k_c+1]\n",
    "\n",
    "\n",
    "                # upper bound...... and lower bound ...............\n",
    "                A_3a_up = np.zeros((8,64*3+8*2))\n",
    "                A_3a_low = np.zeros((8,64*3+8*2))\n",
    "\n",
    "                for a2,tb,tc in product(range(2),repeat=3):\n",
    "                    constraint_it = np.inner([4,2,1],[a2,tb,tc])\n",
    "                    for b2,c2 in product(range(2),repeat=2):\n",
    "                        var_it_0 = np.inner([32,16,8,4,2,1],[a2,b2,c2,0,tb,tc]) # ta = 0\n",
    "                        var_it_1 = np.inner([32,16,8,4,2,1],[a2,b2,c2,1,tb,tc]) # ta = 1\n",
    "                        A_3a_up[constraint_it, var_it_0] = -q_up_a\n",
    "                        A_3a_up[constraint_it, var_it_1] = (1-q_up_a)\n",
    "\n",
    "                        A_3a_low[constraint_it, var_it_0] = q_low_a\n",
    "                        A_3a_low[constraint_it, var_it_1] = -(1-q_low_a)\n",
    "\n",
    "\n",
    "                A_3b_up = np.zeros((8,64*3+8*2))\n",
    "                A_3b_low = np.zeros((8,64*3+8*2))\n",
    "                for b2,ta,tc in product(range(2),repeat=3):\n",
    "                    constraint_it = np.inner([4,2,1],[b2,ta,tc])\n",
    "                    for a2,c2 in product(range(2),repeat=2):\n",
    "                        var_it_0 = np.inner([32,16,8,4,2,1],[a2,b2,c2,ta,0,tc])# tb = 0\n",
    "                        var_it_1 = np.inner([32,16,8,4,2,1],[a2,b2,c2,ta,1,tc])# tb = 1\n",
    "                        A_3b_up[constraint_it, var_it_0] = -q_up_b\n",
    "                        A_3b_up[constraint_it, var_it_1] = (1-q_up_b)\n",
    "\n",
    "                        A_3b_low[constraint_it, var_it_0] = q_low_b\n",
    "                        A_3b_low[constraint_it, var_it_1] = -(1-q_low_b)\n",
    "\n",
    "\n",
    "                A_3c_up = np.zeros((8,64*3+8*2))\n",
    "                A_3c_low = np.zeros((8,64*3+8*2))\n",
    "\n",
    "                for c2,ta,tb in product(range(2),repeat=3):\n",
    "                    constraint_it = np.inner([4,2,1],[c2,ta,tb])\n",
    "                    for a2,b2 in product(range(2),repeat=2):\n",
    "                        var_it_0 = np.inner([32,16,8,4,2,1],[a2,b2,c2,ta,tb,0])# tc = 0\n",
    "                        var_it_1 = np.inner([32,16,8,4,2,1],[a2,b2,c2,ta,tb,1])# tc = 1\n",
    "                        A_3c_up[constraint_it, var_it_0] = -q_up_c\n",
    "                        A_3c_up[constraint_it, var_it_1] = (1-q_up_c)\n",
    "\n",
    "                        A_3c_low[constraint_it, var_it_0] = q_low_c\n",
    "                        A_3c_low[constraint_it, var_it_1] = -(1-q_low_c)\n",
    "\n",
    "\n",
    "\n",
    "\n",
    "                A_up = np.concatenate([A_3a_up,A_3b_up,A_3c_up, A_3a_low,A_3b_low,A_3c_low]) \n",
    "\n",
    "\n",
    "                res = main_for_LP(c, A_eq, b_eq, A_up ,b_up,verbose=False)  \n",
    "\n",
    "                if res != mosek.solsta.prim_infeas_cer: #if feasible for some qs in the grid\n",
    "                    feasible_q_founded = True\n",
    "                    break\n",
    "\n",
    "\n",
    "    return (feasible_q_founded)*1 #output 1 if feasible!"
   ]
  },
  {
   "cell_type": "code",
   "execution_count": null,
   "id": "0b639781",
   "metadata": {},
   "outputs": [],
   "source": []
  },
  {
   "cell_type": "code",
   "execution_count": null,
   "id": "629516fc",
   "metadata": {},
   "outputs": [],
   "source": []
  },
  {
   "cell_type": "markdown",
   "id": "39692655",
   "metadata": {},
   "source": [
    "## Make the Plot Noise"
   ]
  },
  {
   "cell_type": "code",
   "execution_count": null,
   "id": "6969702d",
   "metadata": {},
   "outputs": [],
   "source": []
  },
  {
   "cell_type": "code",
   "execution_count": 21,
   "id": "8ec59320",
   "metadata": {},
   "outputs": [],
   "source": [
    "def Noise_Plot_Get_Data(l0, eps_list, grid_size, honest_q=False, N_grid_q=1):\n",
    "\n",
    "    tic = time.perf_counter()\n",
    "\n",
    "\n",
    "    N_it = grid_size\n",
    "\n",
    "\n",
    "    noise_map = np.zeros((N_it, N_it//2))\n",
    "\n",
    "\n",
    "    phi_u_list = np.linspace(0, np.pi/2, num = N_it)\n",
    "    phi_w_list = np.linspace(0, np.pi/4, num = N_it//2)   # we have mirror symemtry for w .......\n",
    "\n",
    "\n",
    "    for i in tqdm(range(N_it)):\n",
    "        for j in range(N_it//2):\n",
    "\n",
    "        \n",
    "            phi_u = phi_u_list[i]\n",
    "            phi_w = phi_w_list[j]\n",
    "\n",
    "            eps_max = 0\n",
    "            for eps in eps_list:\n",
    "                feasiblity_flag = get_single_exp_mosek(l0, eps, phi_u, phi_w, honest_q, N_grid_q)\n",
    "                if feasiblity_flag:\n",
    "                    break\n",
    "                eps_max = eps  # saves the last infeasible eps\n",
    "            noise_map[i,j] = eps_max\n",
    "\n",
    "    ## Add the other half side for phi_w\n",
    "    noise_map_flip = np.flip(noise_map, 1)\n",
    "    noise_map_final = np.concatenate((noise_map, noise_map_flip), axis=1)\n",
    "\n",
    "\n",
    "\n",
    "    toc = time.perf_counter()\n",
    "    print(\"time: \", np.round((toc-tic)/60, 2), \" mins\")\n",
    "\n",
    "\n",
    "    return noise_map_final\n",
    "\n",
    "\n",
    "\n",
    "\n",
    "################### FULL PLOT ##############################\n",
    "    \n",
    "    \n",
    "def Noise_Plot_Show(noise_map_final):\n",
    "\n",
    "    total_map =  noise_map_final #- 0.004*(local_map)\n",
    "\n",
    "    total_map = total_map *100 # in %\n",
    "\n",
    "    fig, ax = plt.subplots(figsize=(8,8))\n",
    "\n",
    "    ax.set_title(\"Noise map for TV\")\n",
    "    plt.imshow(total_map ,origin='lower', extent=[0,np.pi/2,0,np.pi/2])\n",
    "\n",
    "    # Add colorbar\n",
    "    \n",
    "    # Add colorbar\n",
    "    num_colors=len(np.unique(noise_map_final))\n",
    "    #step = np.min(total_map[np.nonzero(noise_map_final)])\n",
    "    #plt.colorbar(boundaries=np.linspace(0, np.max(total_map)+step, num_colors+1)) # + step foor interval of bouns\n",
    "    plt.colorbar(boundaries=np.linspace(0, np.max(total_map), num_colors))\n",
    "\n",
    "    plt.xlabel(\"$\\phi_1 \\ [w=cos(\\phi_1)]$\", size = 14)\n",
    "    plt.ylabel(\"$\\phi_2 \\ [u=cos(\\phi_2)]$\", size = 14)\n",
    "\n",
    "    plt.show() "
   ]
  },
  {
   "cell_type": "markdown",
   "id": "14f42a1f",
   "metadata": {},
   "source": [
    "## Honest tokens"
   ]
  },
  {
   "cell_type": "code",
   "execution_count": 24,
   "id": "16fdc620",
   "metadata": {},
   "outputs": [
    {
     "name": "stderr",
     "output_type": "stream",
     "text": [
      "100%|███████████████████████████████████████████| 50/50 [04:03<00:00,  4.86s/it]"
     ]
    },
    {
     "name": "stdout",
     "output_type": "stream",
     "text": [
      "time:  4.05  mins\n"
     ]
    },
    {
     "name": "stderr",
     "output_type": "stream",
     "text": [
      "\n"
     ]
    }
   ],
   "source": [
    "l0 = np.sqrt(0.22)\n",
    "eps_list = np.linspace(0, 0.004, 50) \n",
    "grid_size = 50\n",
    "\n",
    "noise_map_final = Noise_Plot_Get_Data(l0, eps_list, grid_size, honest_q=True, N_grid_q=1)"
   ]
  },
  {
   "cell_type": "code",
   "execution_count": null,
   "id": "071e8fa2",
   "metadata": {},
   "outputs": [],
   "source": []
  },
  {
   "cell_type": "code",
   "execution_count": 33,
   "id": "aa620626",
   "metadata": {},
   "outputs": [
    {
     "data": {
      "text/plain": [
       "0.0024489795918367346"
      ]
     },
     "execution_count": 33,
     "metadata": {},
     "output_type": "execute_result"
    }
   ],
   "source": [
    "np.max(noise_map_final)"
   ]
  },
  {
   "cell_type": "code",
   "execution_count": 27,
   "id": "ab431b7b",
   "metadata": {},
   "outputs": [
    {
     "data": {
      "image/png": "[encoded data removed]",
      "text/plain": [
       "<Figure size 576x576 with 2 Axes>"
      ]
     },
     "metadata": {
      "needs_background": "light"
     },
     "output_type": "display_data"
    }
   ],
   "source": [
    "Noise_Plot_Show( noise_map_final)"
   ]
  },
  {
   "cell_type": "code",
   "execution_count": 32,
   "id": "b91ef700",
   "metadata": {},
   "outputs": [
    {
     "data": {
      "image/png": "[encoded data removed]",
      "text/plain": [
       "<Figure size 576x576 with 2 Axes>"
      ]
     },
     "metadata": {
      "needs_background": "light"
     },
     "output_type": "display_data"
    }
   ],
   "source": [
    "Noise_Plot_Show_new(noise_map_final)"
   ]
  },
  {
   "cell_type": "code",
   "execution_count": 59,
   "id": "52f22405",
   "metadata": {},
   "outputs": [
    {
     "data": {
      "text/plain": [
       "array([0.    , 0.0001, 0.0002, 0.0003, 0.0004, 0.0005, 0.0006, 0.0007,\n",
       "       0.0008, 0.0009, 0.001 , 0.0011, 0.0012, 0.0013, 0.0014, 0.0015,\n",
       "       0.0016, 0.0017, 0.0018, 0.0019, 0.002 , 0.0021, 0.0022, 0.0023,\n",
       "       0.0024, 0.0025, 0.0026, 0.0027, 0.0028, 0.0029, 0.003 ])"
      ]
     },
     "execution_count": 59,
     "metadata": {},
     "output_type": "execute_result"
    }
   ],
   "source": [
    "np.linspace(0, 0.003, 31) "
   ]
  },
  {
   "cell_type": "code",
   "execution_count": 63,
   "id": "6f6da6d6",
   "metadata": {},
   "outputs": [
    {
     "data": {
      "text/plain": [
       "0.0014"
      ]
     },
     "execution_count": 63,
     "metadata": {},
     "output_type": "execute_result"
    }
   ],
   "source": [
    "np.max(noise_map_final)"
   ]
  },
  {
   "cell_type": "markdown",
   "id": "5e0f369d",
   "metadata": {},
   "source": [
    "## Noisy distribution "
   ]
  },
  {
   "cell_type": "code",
   "execution_count": 34,
   "id": "95a939da",
   "metadata": {},
   "outputs": [
    {
     "data": {
      "text/plain": [
       "array([0.    , 0.0001, 0.0002, 0.0003, 0.0004, 0.0005, 0.0006, 0.0007,\n",
       "       0.0008, 0.0009, 0.001 , 0.0011, 0.0012, 0.0013, 0.0014, 0.0015,\n",
       "       0.0016, 0.0017, 0.0018, 0.0019, 0.002 , 0.0021, 0.0022, 0.0023,\n",
       "       0.0024, 0.0025])"
      ]
     },
     "execution_count": 34,
     "metadata": {},
     "output_type": "execute_result"
    }
   ],
   "source": [
    "np.linspace(0, 0.0025, 25+1)"
   ]
  },
  {
   "cell_type": "markdown",
   "id": "4f8d783f",
   "metadata": {},
   "source": [
    "# Run over night"
   ]
  },
  {
   "cell_type": "code",
   "execution_count": 35,
   "id": "66690024",
   "metadata": {
    "scrolled": false
   },
   "outputs": [
    {
     "name": "stderr",
     "output_type": "stream",
     "text": [
      "100%|██████████████████████████████████████| 50/50 [20:46:09<00:00, 1495.38s/it]\n"
     ]
    },
    {
     "name": "stdout",
     "output_type": "stream",
     "text": [
      "time:  1246.15  mins\n"
     ]
    },
    {
     "data": {
      "image/png": "[encoded data removed]",
      "text/plain": [
       "<Figure size 576x576 with 2 Axes>"
      ]
     },
     "metadata": {
      "needs_background": "light"
     },
     "output_type": "display_data"
    }
   ],
   "source": [
    "l0 = np.sqrt(0.22)\n",
    "\n",
    "eps_list = np.linspace(0, 0.0025, 25+1)\n",
    "grid_size = 50\n",
    "honest_q=FalseNX\n",
    "N_grid_q = 16\n",
    "\n",
    "noise_map_final = Noise_Plot_Get_Data(l0, eps_list, grid_size, honest_q, N_grid_q)\n",
    "np.savez('TV_noise_22_q16_50.npz', noise_map_final=noise_map_final)\n",
    "Noise_Plot_Show_new(noise_map_final)"
   ]
  },
  {
   "cell_type": "code",
   "execution_count": 73,
   "id": "55f9bb54",
   "metadata": {},
   "outputs": [
    {
     "name": "stdout",
     "output_type": "stream",
     "text": [
      "[0.     0.0001 0.0002 0.0003 0.0004 0.0005 0.0006 0.0007 0.0008 0.0009\n",
      " 0.001  0.0011 0.0012 0.0013 0.0014 0.0015 0.0016 0.0017 0.0018 0.0019\n",
      " 0.002  0.0021 0.0022 0.0023]\n"
     ]
    },
    {
     "data": {
      "image/png": "[encoded data removed]",
      "text/plain": [
       "<Figure size 576x576 with 2 Axes>"
      ]
     },
     "metadata": {
      "needs_background": "light"
     },
     "output_type": "display_data"
    }
   ],
   "source": [
    "Noise_Plot_Show_new(noise_map_final)"
   ]
  },
  {
   "cell_type": "code",
   "execution_count": null,
   "id": "950adfca",
   "metadata": {},
   "outputs": [],
   "source": []
  },
  {
   "cell_type": "code",
   "execution_count": 36,
   "id": "ae472399",
   "metadata": {},
   "outputs": [
    {
     "data": {
      "text/plain": [
       "0.0022"
      ]
     },
     "execution_count": 36,
     "metadata": {},
     "output_type": "execute_result"
    }
   ],
   "source": [
    "np.max(noise_map_final)"
   ]
  },
  {
   "cell_type": "code",
   "execution_count": 87,
   "id": "807b614a",
   "metadata": {},
   "outputs": [
    {
     "name": "stdout",
     "output_type": "stream",
     "text": [
      "Max noise is  0.0024000000000000002 for:\n",
      "$phi_w$ 0.0\n",
      "$phi_u$ 0.41674188261905415\n"
     ]
    }
   ],
   "source": [
    "from numpy import unravel_index\n",
    "\n",
    "phi_u_list = np.linspace(0, np.pi/2, num = 50)\n",
    "phi_w_list = np.linspace(0, np.pi/2, num = 50)\n",
    "\n",
    "\n",
    "i_max, j_max = unravel_index(noise_map_final.argmax(), noise_map_final.shape)\n",
    "phi_u_max = phi_u_list[i_max]\n",
    "phi_w_max = phi_w_list[j_max]\n",
    "\n",
    "print(\"Max noise is \", np.max(noise_map_final), \"for:\")\n",
    "print(\"$phi_w$\", phi_w_max)\n",
    "print(\"$phi_u$\", phi_u_max)"
   ]
  },
  {
   "cell_type": "code",
   "execution_count": 81,
   "id": "dc89cb98",
   "metadata": {},
   "outputs": [
    {
     "data": {
      "text/plain": [
       "0.0024000000000000002"
      ]
     },
     "execution_count": 81,
     "metadata": {},
     "output_type": "execute_result"
    }
   ],
   "source": [
    "np.max(noise_map_final)"
   ]
  },
  {
   "cell_type": "code",
   "execution_count": null,
   "id": "a8c3c092",
   "metadata": {},
   "outputs": [],
   "source": [
    "data = np.load('TV_noise_225_q10_50.npz')\n",
    "noise_map_final = data['noise_map_final']\n",
    "local_map = data['local_map']\n",
    "\n",
    "Noise_Plot_Show(local_map, noise_map_final)"
   ]
  },
  {
   "cell_type": "code",
   "execution_count": 72,
   "id": "595263c0",
   "metadata": {},
   "outputs": [],
   "source": [
    "import matplotlib\n",
    "import matplotlib.ticker as mtick\n",
    "\n",
    "def Noise_Plot_Show_new(noise_map_final):\n",
    "    \n",
    "    matplotlib.rcParams['mathtext.fontset'] = 'stix'\n",
    "    matplotlib.rcParams['font.family'] = 'STIXGeneral'\n",
    "    \n",
    "    matplotlib.rcParams['axes.titlepad'] = 10  # pad is in points...\n",
    "    \n",
    "\n",
    "    total_map =   noise_map_final #-0.004*(local_map)\n",
    "\n",
    "\n",
    "    fig, ax = plt.subplots(figsize=(8,8))\n",
    "\n",
    "    #ax.set_title(\"TV Distance Map\", size = 20)\n",
    "    \n",
    "    plt.imshow(total_map ,origin='lower', extent=[0,np.pi/2,0,np.pi/2])\n",
    "\n",
    "\n",
    "    \n",
    "    # Add colorbar\n",
    "    num_colors=len(np.unique(noise_map_final))\n",
    "    step = np.min(total_map[np.nonzero(noise_map_final)])\n",
    "    print(np.linspace(0, np.max(total_map)+step, num_colors+1))\n",
    "    \n",
    "    cbar = plt.colorbar(extend=\"max\", boundaries=np.linspace(0, np.max(total_map), 22)) # + step foor interval of bouns\n",
    "    #cbar = plt.colorbar(extend=\"max\", boundaries=np.linspace(0, np.max(total_map), num_colors))\n",
    "\n",
    "    \n",
    "    cbar.ax.tick_params(labelsize=16)\n",
    "\n",
    "    # Format the colorbar to display percentages\n",
    "    formatter = mtick.FuncFormatter(lambda x, pos: '{:.2%}'.format(x))\n",
    "    cbar.ax.yaxis.set_major_formatter(formatter)\n",
    "\n",
    "    plt.xlabel(\"$\\phi_w$\", size = 20)\n",
    "    plt.ylabel(\"$\\phi_u$\", size = 20)\n",
    "\n",
    "\n",
    "    theta = np.linspace(0, np.pi/2, 5)\n",
    "    plt.xticks(theta, ['0','$'+r'{\\pi/8}$','$'+r'{\\pi/4}$','$'+r'{3\\pi/8}$', '$'+r'{\\pi/2}$'])\n",
    "\n",
    "    plt.yticks(theta, ['0','$'+r'{\\pi/8}$','$'+r'{\\pi/4}$','$'+r'{3\\pi/8}$', '$'+r'{\\pi/2}$'])\n",
    "    \n",
    "    plt.yticks(fontsize=18)\n",
    "    plt.xticks(fontsize=18)\n",
    "\n",
    "\n",
    "    '''\n",
    "    from numpy import unravel_index\n",
    "\n",
    "    i_max, j_max = unravel_index(total_map.argmax(), total_map.shape)\n",
    "    phi_u_max = phi_u_list[i_max]\n",
    "    phi_w_max = phi_w_list[j_max]\n",
    "\n",
    "    print(\"Max noise is \", np.max(total_map), \"for:\")\n",
    "    print(\"$phi_1$\", phi_w_max)\n",
    "    print(\"$ph2_1$\", phi_u_max)\n",
    "    '''\n",
    "\n",
    "\n",
    "    fig.savefig('TV_plot_22_50_q16.pdf', bbox_inches='tight') \n",
    "    plt.show()\n",
    "    "
   ]
  },
  {
   "cell_type": "code",
   "execution_count": null,
   "id": "e003a3ea",
   "metadata": {},
   "outputs": [],
   "source": []
  },
  {
   "cell_type": "markdown",
   "id": "fb25b5c0",
   "metadata": {},
   "source": [
    "# Best Robustnes By Binary search"
   ]
  },
  {
   "cell_type": "code",
   "execution_count": 74,
   "id": "236f27ce",
   "metadata": {},
   "outputs": [
    {
     "name": "stderr",
     "output_type": "stream",
     "text": [
      " 10%|████                                     | 2/20 [18:34<2:47:06, 557.01s/it]"
     ]
    },
    {
     "name": "stdout",
     "output_type": "stream",
     "text": [
      "New nonlocal eps :  0.125 %\n"
     ]
    },
    {
     "name": "stderr",
     "output_type": "stream",
     "text": [
      "\r",
      " 15%|██████▏                                  | 3/20 [28:00<2:39:03, 561.38s/it]"
     ]
    },
    {
     "name": "stdout",
     "output_type": "stream",
     "text": [
      "New nonlocal eps :  0.1875 %\n"
     ]
    },
    {
     "name": "stderr",
     "output_type": "stream",
     "text": [
      "\r",
      " 20%|████████▏                                | 4/20 [37:27<2:30:16, 563.51s/it]"
     ]
    },
    {
     "name": "stdout",
     "output_type": "stream",
     "text": [
      "New nonlocal eps :  0.21875000000000003 %\n"
     ]
    },
    {
     "name": "stderr",
     "output_type": "stream",
     "text": [
      "\r",
      " 25%|██████████▎                              | 5/20 [46:55<2:21:14, 565.00s/it]"
     ]
    },
    {
     "name": "stdout",
     "output_type": "stream",
     "text": [
      "New nonlocal eps :  0.23437500000000003 %\n"
     ]
    },
    {
     "name": "stderr",
     "output_type": "stream",
     "text": [
      " 35%|█████████████▋                         | 7/20 [1:05:55<2:03:05, 568.09s/it]"
     ]
    },
    {
     "name": "stdout",
     "output_type": "stream",
     "text": [
      "New nonlocal eps :  0.23828125000000003 %\n"
     ]
    },
    {
     "name": "stderr",
     "output_type": "stream",
     "text": [
      " 55%|████████████████████▉                 | 11/20 [1:43:47<1:25:12, 568.07s/it]"
     ]
    },
    {
     "name": "stdout",
     "output_type": "stream",
     "text": [
      "New nonlocal eps :  0.23852539062500003 %\n"
     ]
    },
    {
     "name": "stderr",
     "output_type": "stream",
     "text": [
      " 65%|████████████████████████▋             | 13/20 [2:02:46<1:06:20, 568.70s/it]"
     ]
    },
    {
     "name": "stdout",
     "output_type": "stream",
     "text": [
      "New nonlocal eps :  0.23858642578125003 %\n"
     ]
    },
    {
     "name": "stderr",
     "output_type": "stream",
     "text": [
      "\r",
      " 70%|████████████████████████████            | 14/20 [2:12:14<56:51, 568.65s/it]"
     ]
    },
    {
     "name": "stdout",
     "output_type": "stream",
     "text": [
      "New nonlocal eps :  0.23861694335937503 %\n"
     ]
    },
    {
     "name": "stderr",
     "output_type": "stream",
     "text": [
      " 95%|██████████████████████████████████████  | 19/20 [2:59:34<09:28, 568.30s/it]"
     ]
    },
    {
     "name": "stdout",
     "output_type": "stream",
     "text": [
      "New nonlocal eps :  0.2386178970336914 %\n"
     ]
    },
    {
     "name": "stderr",
     "output_type": "stream",
     "text": [
      "100%|████████████████████████████████████████| 20/20 [3:09:01<00:00, 567.09s/it]"
     ]
    },
    {
     "name": "stdout",
     "output_type": "stream",
     "text": [
      "New nonlocal eps :  0.23861837387084964 %\n",
      "eps_nonlocal :  0.23861837387084964 %\n",
      "eps_local :  0.23861885070800784 %\n"
     ]
    },
    {
     "name": "stderr",
     "output_type": "stream",
     "text": [
      "\n"
     ]
    }
   ],
   "source": [
    "l0 = np.sqrt(0.220)\n",
    "phi_w = 0\n",
    "phi_u = 0.417\n",
    "\n",
    "honest_q= False\n",
    "N_grid_q = 64\n",
    "\n",
    "\n",
    "\n",
    "eps_local = 0.005\n",
    "eps_nonlocal = 0\n",
    "\n",
    "\n",
    "for i in tqdm(range(20)):  \n",
    "    eps_new = (eps_local + eps_nonlocal)/2\n",
    "    flag_local = get_single_exp_mosek(l0, eps_new , phi_u, phi_w, honest_q, N_grid_q)\n",
    "    \n",
    "    if flag_local:\n",
    "        eps_local = eps_new\n",
    "    else:\n",
    "        eps_nonlocal = eps_new\n",
    "        print(\"New nonlocal eps : \", eps_nonlocal*100, \"%\")\n",
    "    \n",
    "\n",
    "\n",
    "print(\"eps_nonlocal : \", eps_nonlocal*100, \"%\")\n",
    "print(\"eps_local : \", eps_local*100, \"%\")"
   ]
  },
  {
   "cell_type": "code",
   "execution_count": 80,
   "id": "297548b0",
   "metadata": {},
   "outputs": [
    {
     "name": "stderr",
     "output_type": "stream",
     "text": [
      "  5%|█▊                                 | 1/20 [7:47:19<147:59:05, 28039.22s/it]"
     ]
    },
    {
     "name": "stdout",
     "output_type": "stream",
     "text": [
      "New nonlocal eps :  0.125 %\n",
      "W_local :  0.25 %\n"
     ]
    },
    {
     "name": "stderr",
     "output_type": "stream",
     "text": [
      "\r",
      " 10%|███▌                                | 2/20 [8:59:45<70:30:41, 14102.32s/it]"
     ]
    },
    {
     "name": "stdout",
     "output_type": "stream",
     "text": [
      "New nonlocal eps :  0.1875 %\n",
      "W_local :  0.25 %\n"
     ]
    },
    {
     "name": "stderr",
     "output_type": "stream",
     "text": [
      "\r",
      " 15%|█████▍                              | 3/20 [10:12:45<45:37:48, 9662.87s/it]"
     ]
    },
    {
     "name": "stdout",
     "output_type": "stream",
     "text": [
      "New nonlocal eps :  0.21875000000000003 %\n",
      "W_local :  0.25 %\n"
     ]
    },
    {
     "name": "stderr",
     "output_type": "stream",
     "text": [
      "\r",
      " 20%|███████▏                            | 4/20 [11:25:43<33:40:25, 7576.57s/it]"
     ]
    },
    {
     "name": "stdout",
     "output_type": "stream",
     "text": [
      "New nonlocal eps :  0.23437500000000003 %\n",
      "W_local :  0.25 %\n"
     ]
    },
    {
     "name": "stderr",
     "output_type": "stream",
     "text": [
      " 30%|██████████▊                         | 6/20 [13:51:26<22:15:35, 5723.98s/it]"
     ]
    },
    {
     "name": "stdout",
     "output_type": "stream",
     "text": [
      "New nonlocal eps :  0.23828125000000003 %\n",
      "W_local :  0.24218750000000006 %\n"
     ]
    },
    {
     "name": "stderr",
     "output_type": "stream",
     "text": [
      " 40%|██████████████▍                     | 8/20 [16:17:18<16:38:59, 4994.94s/it]"
     ]
    },
    {
     "name": "stdout",
     "output_type": "stream",
     "text": [
      "New nonlocal eps :  0.23925781250000003 %\n",
      "W_local :  0.24023437500000003 %\n"
     ]
    },
    {
     "name": "stderr",
     "output_type": "stream",
     "text": [
      "\r",
      " 45%|████████████████▏                   | 9/20 [17:30:17<14:40:27, 4802.53s/it]"
     ]
    },
    {
     "name": "stdout",
     "output_type": "stream",
     "text": [
      "New nonlocal eps :  0.23974609375 %\n",
      "W_local :  0.24023437500000003 %\n"
     ]
    },
    {
     "name": "stderr",
     "output_type": "stream",
     "text": [
      "\r",
      " 50%|█████████████████▌                 | 10/20 [18:43:13<12:58:25, 4670.58s/it]"
     ]
    },
    {
     "name": "stdout",
     "output_type": "stream",
     "text": [
      "New nonlocal eps :  0.23999023437500006 %\n",
      "W_local :  0.24023437500000003 %\n"
     ]
    },
    {
     "name": "stderr",
     "output_type": "stream",
     "text": [
      " 70%|█████████████████████████▏          | 14/20 [24:39:33<8:45:19, 5253.17s/it]"
     ]
    },
    {
     "name": "stdout",
     "output_type": "stream",
     "text": [
      "New nonlocal eps :  0.24000549316406253 %\n",
      "W_local :  0.24002075195312503 %\n"
     ]
    },
    {
     "name": "stderr",
     "output_type": "stream",
     "text": [
      " 80%|████████████████████████████       | 16/20 [31:31:07<10:40:16, 9604.15s/it]"
     ]
    },
    {
     "name": "stdout",
     "output_type": "stream",
     "text": [
      "New nonlocal eps :  0.24000930786132815 %\n",
      "W_local :  0.24001312255859378 %\n"
     ]
    },
    {
     "name": "stderr",
     "output_type": "stream",
     "text": [
      " 90%|████████████████████████████████▍   | 18/20 [33:57:21<3:51:12, 6936.38s/it]"
     ]
    },
    {
     "name": "stdout",
     "output_type": "stream",
     "text": [
      "New nonlocal eps :  0.2400102615356446 %\n",
      "W_local :  0.24001121520996097 %\n"
     ]
    },
    {
     "name": "stderr",
     "output_type": "stream",
     "text": [
      "\r",
      " 95%|██████████████████████████████████▏ | 19/20 [35:09:57<1:42:41, 6161.26s/it]"
     ]
    },
    {
     "name": "stdout",
     "output_type": "stream",
     "text": [
      "New nonlocal eps :  0.2400107383728028 %\n",
      "W_local :  0.24001121520996097 %\n"
     ]
    },
    {
     "name": "stderr",
     "output_type": "stream",
     "text": [
      "100%|██████████████████████████████████████| 20/20 [36:22:25<00:00, 6547.27s/it]"
     ]
    },
    {
     "name": "stdout",
     "output_type": "stream",
     "text": [
      "New nonlocal eps :  0.24001097679138186 %\n",
      "W_local :  0.24001121520996097 %\n",
      "eps_nonlocal :  0.24001097679138186 %\n",
      "eps_local :  0.24001121520996097 %\n"
     ]
    },
    {
     "name": "stderr",
     "output_type": "stream",
     "text": [
      "\n"
     ]
    }
   ],
   "source": [
    "l0 = np.sqrt(0.220)\n",
    "phi_w = 0\n",
    "phi_u = 0.417\n",
    "\n",
    "honest_q= False\n",
    "N_grid_q = 128\n",
    "\n",
    "\n",
    "\n",
    "eps_local = 0.0025\n",
    "eps_nonlocal = 0\n",
    "\n",
    "\n",
    "for i in tqdm(range(20)):  \n",
    "    eps_new = (eps_local + eps_nonlocal)/2\n",
    "    flag_local = get_single_exp_mosek(l0, eps_new , phi_u, phi_w, honest_q, N_grid_q)\n",
    "    \n",
    "    if flag_local:\n",
    "        eps_local = eps_new\n",
    "    else:\n",
    "        eps_nonlocal = eps_new\n",
    "        print(\"New nonlocal eps : \", eps_nonlocal*100, \"%\")\n",
    "        print(\"W_local : \", eps_local*100, \"%\")\n",
    "    \n",
    "\n",
    "\n",
    "print(\"eps_nonlocal : \", eps_nonlocal*100, \"%\")\n",
    "print(\"eps_local : \", eps_local*100, \"%\")"
   ]
  },
  {
   "cell_type": "code",
   "execution_count": null,
   "id": "721fffbe",
   "metadata": {},
   "outputs": [],
   "source": []
  }
 ],
 "metadata": {
  "kernelspec": {
   "display_name": "Python 3 (ipykernel)",
   "language": "python",
   "name": "python3"
  },
  "language_info": {
   "codemirror_mode": {
    "name": "ipython",
    "version": 3
   },
   "file_extension": ".py",
   "mimetype": "text/x-python",
   "name": "python",
   "nbconvert_exporter": "python",
   "pygments_lexer": "ipython3",
   "version": "3.9.12"
  }
 },
 "nbformat": 4,
 "nbformat_minor": 5
}
