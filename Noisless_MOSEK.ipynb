{
 "cells": [
  {
   "cell_type": "markdown",
   "id": "e4296a38",
   "metadata": {},
   "source": [
    "# Generate the Quantum distribution"
   ]
  },
  {
   "cell_type": "markdown",
   "id": "5bee2d3f",
   "metadata": {},
   "source": [
    "$$\\newcommand{\\ket}[1]{\\left|{#1}\\right\\rangle}$$\n",
    "\n",
    "\n",
    "### States:\n",
    "$$\\ket{\\psi} = \\lambda_0\\ket{01} + \\lambda_1\\ket{10}$$\n",
    "\n",
    "\n",
    "### Measurnments:\n",
    "\n",
    "\\begin{split}\n",
    "    \\ket{\\phi_{1,0}} &= u \\ket{0,1} + v\\ket{1,0}\\\\\n",
    "    \\ket{\\phi_{1,1}} &= v \\ket{0,1} - u\\ket{1,0}\\\\\n",
    "    \\ket{\\phi_{0,0}} &= w \\ket{0,0} + z\\ket{1,1}\\\\\n",
    "    \\ket{\\phi_{0,1}} &= z \\ket{0,0} - w\\ket{1,1}\n",
    "\\end{split}"
   ]
  },
  {
   "cell_type": "code",
   "execution_count": 1,
   "id": "8d284a8c",
   "metadata": {},
   "outputs": [
    {
     "name": "stderr",
     "output_type": "stream",
     "text": [
      "/Users/sadra/opt/anaconda3/lib/python3.9/site-packages/scipy/__init__.py:146: UserWarning: A NumPy version >=1.16.5 and <1.23.0 is required for this version of SciPy (detected version 1.25.2\n",
      "  warnings.warn(f\"A NumPy version >={np_minversion} and <{np_maxversion}\"\n"
     ]
    }
   ],
   "source": [
    "import numpy as np\n",
    "from numpy import kron\n",
    "import math\n",
    "from math import sqrt\n",
    "from random import random\n",
    "from scipy.optimize import linprog\n",
    "import matplotlib.pyplot as plt\n",
    "from itertools import product\n",
    "from matplotlib import colors\n",
    "import time\n",
    "\n",
    "def new_index(x):   # 012345 --> 123450\n",
    "    b  = bin(x)[2:].zfill(6) # x in binary b0..b5\n",
    "    y = int(b[1:]+b[0], 2)\n",
    "    return y\n",
    "\n",
    "\n",
    "\n",
    "def change_qbit_order(x): # 012345 --> 123450  # for states\n",
    "    x_ordered = np.zeros_like(x)\n",
    "    for i in range(64):\n",
    "        x_ordered[new_index(i)] = x[i]\n",
    "    return x_ordered\n",
    "\n",
    "\n",
    "def PP(w,z,u,v,lambda_0,lambda_1):\n",
    "    \n",
    "    ## settign states\n",
    "    state_0 = np.array([1,0])\n",
    "    state_1 = np.array([0,1])\n",
    "    \n",
    "    state_00 = kron(state_0,state_0)\n",
    "    state_01 = kron(state_0,state_1)\n",
    "    state_10 = kron(state_1,state_0)\n",
    "    state_11 = kron(state_1,state_1)\n",
    "    \n",
    "    psi = (lambda_0*state_01 + lambda_1*state_10)\n",
    "    \n",
    "    total_psi = kron(kron(psi,psi),psi)\n",
    "    total_psi_ordered = change_qbit_order(total_psi)\n",
    "    \n",
    "    \n",
    "    \n",
    "    \n",
    "    # Setting Measurment \n",
    "    out_00 = z*state_00 + w*state_11\n",
    "    out_01 = w*state_00 - z*state_11\n",
    "    out_10 = u*state_01 + v*state_10\n",
    "    out_11 = v*state_01 - u*state_10\n",
    "    \n",
    "    M_state = np.array([[out_00, out_01],[out_10, out_11]])\n",
    "    \n",
    "    ## Resulting distribution\n",
    "    \n",
    "    p = np.zeros((2,2,2,2,2,2))\n",
    "\n",
    "    for a1,a2,b1,b2,c1,c2 in product(range(2), repeat=6):\n",
    "    \n",
    "        total_M_state = kron(kron(M_state[a1,a2], M_state[b1,b2]), M_state[c1,c2])        \n",
    "        p[a1,a2,b1,b2,c1,c2] = np.inner(total_M_state, total_psi_ordered)**2\n",
    "\n",
    "    return p\n",
    "\n",
    "# find epsilon...... it only depens on  V !!!\n",
    "\n",
    "\n",
    "\n"
   ]
  },
  {
   "cell_type": "code",
   "execution_count": 2,
   "id": "1548d0e0",
   "metadata": {},
   "outputs": [],
   "source": [
    "#%%\n",
    "import sys\n",
    "import mosek\n",
    "import scipy.sparse as sp\n",
    "# Since the value of infinity is ignored, we define it solely\n",
    "# for symbolic purposes\n",
    "inf = 1.0\n",
    "\n",
    "\n",
    "\n",
    "\n",
    "# Define a stream printer to grab output from MOSEK\n",
    "def streamprinter(text):\n",
    "    sys.stdout.write(text)\n",
    "    sys.stdout.flush()\n",
    "    \n",
    "def main_for_LP(c, A_eq, b_eq, verbose=False):\n",
    "    # Create a task object\n",
    "\n",
    "    A = sp.coo_matrix(A_eq)\n",
    "    \n",
    "    with mosek.Env() as env:\n",
    "        with env.Task(0, 0) as task:\n",
    "            # Attach a log stream printer to the task\n",
    "            if verbose:\n",
    "                task.set_Stream(mosek.streamtype.log, streamprinter)\n",
    "    \n",
    "            # Bound keys for constraints\n",
    "            bkc = [mosek.boundkey.fx for i in range(len(A_eq))]\n",
    "    \n",
    "            # Bound values for constraints\n",
    "            buc = list(b_eq)\n",
    "            blc = list(b_eq)\n",
    "            \n",
    "            # Bound keys for variables\n",
    "            bkx = [mosek.boundkey.ra for i in range(len(c))]\n",
    "    \n",
    "            # Bound values for variables\n",
    "            blx = [0.0 for i in range(len(c))]\n",
    "            bux = [1.0 for i in range(len(c))]\n",
    "    \n",
    "            numvar = len(bkx)\n",
    "            numcon = len(bkc)\n",
    "\n",
    "            # Append 'numcon' empty constraints.\n",
    "            # The constraints will initially have no bounds.\n",
    "            task.appendcons(numcon)\n",
    "    \n",
    "            # Append 'numvar' variables.\n",
    "            # The variables will initially be fixed at zero (x=0).\n",
    "            task.appendvars(numvar)\n",
    "    \n",
    "            for j in range(numvar):\n",
    "                # Set the linear term c_j in the objective.\n",
    "                task.putcj(j, c[j])\n",
    "    \n",
    "                # Set the bounds on variable j\n",
    "                # blx[j] <= x_j <= bux[j]\n",
    "                task.putvarbound(j, bkx[j], blx[j], bux[j])\n",
    "    \n",
    "                # Input column j of A\n",
    "            task.putaijlist(list(A.row),list(A.col),list(A.data))          \n",
    "    \n",
    "            # Set the bounds on constraints.\n",
    "             # blc[i] <= constraint_i <= buc[i]\n",
    "            for i in range(numcon):\n",
    "                task.putconbound(i, bkc[i], blc[i], buc[i])\n",
    "    \n",
    "            # Input the objective sense (minimize/maximize)\n",
    "            task.putobjsense(mosek.objsense.minimize)\n",
    "    \n",
    "            # Solve the problem\n",
    "            task.optimize()\n",
    "            # Print a summary containing information\n",
    "            # about the solution for debugging purposes\n",
    "            if verbose:\n",
    "                task.solutionsummary(mosek.streamtype.msg)\n",
    "    \n",
    "            # Get status information about the solution\n",
    "            solsta = task.getsolsta(mosek.soltype.bas)\n",
    "    \n",
    "            #if (solsta == mosek.solsta.optimal):\n",
    "            #xx = [0.0] * numvar\n",
    "            #task.getxx(mosek.soltype.itr, xx)\n",
    "                #print(\"Optimal solution: \")\n",
    "                #for i in range(numvar):\n",
    "                #    print(\"x[\" + str(i) + \"]=\" + str(xx[i]))\n",
    "            #elif (solsta == mosek.solsta.dual_infeas_cer or\n",
    "            #      solsta == mosek.solsta.prim_infeas_cer):\n",
    "            #    if verbose:\n",
    "            #        print(\"Primal or dual infeasibility certificate found.\\n\")\n",
    "            #elif solsta == mosek.solsta.unknown:\n",
    "            #    print(\"Unknown solution status\")\n",
    "            #else:\n",
    "            #    print(\"Other solution status\")\n",
    "            #obje = task.getprimalobj(mosek.soltype.itr)\n",
    "            #if verbose:\n",
    "            #    print(obje)\n",
    "            return solsta"
   ]
  },
  {
   "cell_type": "code",
   "execution_count": null,
   "id": "c6545fa8",
   "metadata": {},
   "outputs": [],
   "source": []
  },
  {
   "cell_type": "markdown",
   "id": "49a4eccf",
   "metadata": {},
   "source": [
    "## The LP for noiseless case with P (a2, b2, c2 , ta, tb, tc) as variables\n",
    "\n",
    "the variables are the elements of the probability distribution P (a2, b2, c2 , ta, tb, tc)  => 64 vars"
   ]
  },
  {
   "cell_type": "markdown",
   "id": "4053ff30",
   "metadata": {},
   "source": [
    "\\begin{align}\n",
    "&P(a_1,a_2,b_1,b_2,c_1,c_2) = \\sum_{t_a, t_b, t_c \\Rightarrow a_1, b_1, c_1}{P(a_2,b_2,c_2, t_a, t_b, t_c)}\\\\\n",
    "&P(a_2|0, t_b, t_c) = P(a_2|1, t_b, t_c) \\Leftrightarrow q(t_a = 1) \\sum_{b_2,c_2}  {P(a_2,b_2,c_2,0, t_b, t_c)} - q(t_a = 0) \\sum_{b_2,c_2}P(a_2,b_2,c_2,1, t_b, t_c) = 0\n",
    "\\end{align}"
   ]
  },
  {
   "cell_type": "code",
   "execution_count": 3,
   "id": "970ebd13",
   "metadata": {},
   "outputs": [],
   "source": [
    "def get_result_map_mosek(l0, N_it):   #l0 --> lambda0 \n",
    "\n",
    "    l1 = np.sqrt(1-l0**2)\n",
    "    \n",
    "    q = l0**2  #probability of sending token to right/left?\n",
    "\n",
    "    q_a = [q, 1-q]\n",
    "    q_b = [q, 1-q]\n",
    "    q_c = [q, 1-q]\n",
    "\n",
    "    c = np.ones(64) \n",
    "\n",
    "\n",
    "    # Form the matrix A\n",
    "\n",
    "    #First we consider the probability constraints \n",
    "\n",
    "    A_1 = np.zeros((64,64))\n",
    "\n",
    "    for a1,a2,b1,b2,c1,c2 in product(range(2), repeat=6):\n",
    "        constraint_it = np.inner([32,16,8,4,2,1],[a1,a2,b1,b2,c1,c2])\n",
    "        for ta,tb,tc in product(range(2), repeat=3): \n",
    "            if (a1 == (tb+tc+1)%2) and (b1 == (ta+tc+1)%2) and (c1 == (ta+tb+1)%2): # ParityCheck\n",
    "                var_it = np.inner([32,16,8,4,2,1],[a2,b2,c2,ta,tb,tc])\n",
    "                A_1[constraint_it, var_it] = 1\n",
    "\n",
    "\n",
    "\n",
    "    #Now we consider the network independence constraints\n",
    "\n",
    "    A_3a = np.zeros((8,64))\n",
    "    for a2,tb,tc in product(range(2),repeat=3):\n",
    "        constraint_it = np.inner([4,2,1],[a2,tb,tc])\n",
    "        for b2,c2 in product(range(2),repeat=2):\n",
    "            var_it_0 = np.inner([32,16,8,4,2,1],[a2,b2,c2,0,tb,tc]) # ta = 0\n",
    "            var_it_1 = np.inner([32,16,8,4,2,1],[a2,b2,c2,1,tb,tc]) # ta = 1\n",
    "            A_3a[constraint_it, var_it_0] = q_a[1]/q_a[0]\n",
    "            A_3a[constraint_it, var_it_1] = -1\n",
    "\n",
    "\n",
    "    A_3b = np.zeros((8,64))\n",
    "    for b2,ta,tc in product(range(2),repeat=3):\n",
    "        constraint_it = np.inner([4,2,1],[b2,ta,tc])\n",
    "        for a2,c2 in product(range(2),repeat=2):\n",
    "            var_it_0 = np.inner([32,16,8,4,2,1],[a2,b2,c2,ta,0,tc])# tb = 0\n",
    "            var_it_1 = np.inner([32,16,8,4,2,1],[a2,b2,c2,ta,1,tc])# tb = 1\n",
    "            A_3b[constraint_it, var_it_0] = q_b[1]/q_b[0]\n",
    "            A_3b[constraint_it, var_it_1] = -1\n",
    "\n",
    "\n",
    "    A_3c = np.zeros((8,64))\n",
    "    for c2,ta,tb in product(range(2),repeat=3):\n",
    "        constraint_it = np.inner([4,2,1],[c2,ta,tb])\n",
    "        for a2,b2 in product(range(2),repeat=2):\n",
    "            var_it_0 = np.inner([32,16,8,4,2,1],[a2,b2,c2,ta,tb,0])# tc = 0\n",
    "            var_it_1 = np.inner([32,16,8,4,2,1],[a2,b2,c2,ta,tb,1])# tc = 1\n",
    "            A_3c[constraint_it, var_it_0] = q_c[1]/q_c[0]\n",
    "            A_3c[constraint_it, var_it_1] = -1\n",
    "\n",
    "\n",
    "\n",
    "\n",
    "    A = np.concatenate([A_1,A_3a,A_3b,A_3c])  \n",
    "\n",
    "    #remove the redundant rows\n",
    "    #_, inds = sympy.Matrix(A).T.rref()   # I transposed to check for the rows \n",
    "    #A = A[np.array(inds)]\n",
    "    #print(\"Number of independent equations\", A.shape[0])\n",
    "\n",
    "    #print(\"Size of The LP system: \", A.shape)\n",
    "\n",
    "\n",
    "\n",
    "    N_it_u = N_it\n",
    "    N_it_w = N_it//2\n",
    "\n",
    "    phi_u_list = np.linspace(0, np.pi/2, num = N_it_u)\n",
    "    phi_w_list = np.linspace(0, np.pi/4, num = N_it_w)  ## symmetry\n",
    "\n",
    "    result_map = np.zeros((N_it_u, N_it_w)) \n",
    "    \n",
    "    for i in range(N_it_u):\n",
    "        for j in range(N_it_w):\n",
    "            tic1 = time.perf_counter()\n",
    "            phi_u = phi_u_list[i]\n",
    "            phi_w = phi_w_list[j]\n",
    "            \n",
    "            prob = PP(np.cos(phi_w), np.sin(phi_w), np.cos(phi_u), np.sin(phi_u),l0,l1)\n",
    "\n",
    "\n",
    "            # Form the vector b            \n",
    "            b_1 = np.zeros(64)\n",
    "            for a1,a2,b1,b2,c1,c2 in product(range(2), repeat=6):\n",
    "                constraint_it = np.inner([32,16,8,4,2,1],[a1,a2,b1,b2,c1,c2])\n",
    "                b_1[constraint_it] = prob[a1,a2,b1,b2,c1,c2]\n",
    "\n",
    "            b_3 = np.zeros(24)\n",
    "\n",
    "\n",
    "            b = np.concatenate([b_1,b_3])\n",
    "            #b = b[np.array(inds)] # remove the redundent\n",
    "\n",
    "\n",
    "            res = main_for_LP(c, A_eq=A, b_eq=b, verbose=False)  #???\n",
    "\n",
    "            if res == mosek.solsta.prim_infeas_cer: #inside infeasible range\n",
    "                result_map[i, j] = 1\n",
    "                \n",
    "    ## Add the other half side for w\n",
    "    result_map_flip = np.flip(result_map, 1)\n",
    "    result_map_final = np.concatenate((result_map, result_map_flip), axis=1)\n",
    "                \n",
    "    return result_map_final\n"
   ]
  },
  {
   "cell_type": "code",
   "execution_count": 6,
   "id": "fcd3116c",
   "metadata": {},
   "outputs": [
    {
     "name": "stdout",
     "output_type": "stream",
     "text": [
      "time:  29.80657570799997\n"
     ]
    },
    {
     "data": {
      "image/png": "[encoded data removed]",
      "text/plain": [
       "<Figure size 576x576 with 1 Axes>"
      ]
     },
     "metadata": {
      "needs_background": "light"
     },
     "output_type": "display_data"
    }
   ],
   "source": [
    "l0 = np.sqrt(0.22)#np.cos(0.342*np.pi)#lambda0\n",
    "\n",
    "tic = time.perf_counter()\n",
    "result_map = get_result_map_mosek(l0=l0 , N_it=70)\n",
    "toc = time.perf_counter()\n",
    "print('time: ',toc-tic)\n",
    "\n",
    "fig, ax = plt.subplots(figsize=(8,8))\n",
    "# using ListedColormap method from the colors package we can define a color map\n",
    "colormap = colors.ListedColormap([\"lightyellow\",\"dodgerblue\"])\n",
    "# handing this problem over to \n",
    "plt.imshow(result_map,\n",
    "             cmap=colormap,  extent=[0,np.pi/2,0,np.pi/2], origin='lower')\n",
    "plt.xlabel(\"$\\phi_1 \\ [w=cos(\\phi_1)]$\",\n",
    "             size = 14)\n",
    "plt.ylabel(\"$\\phi_2 \\ [u=cos(\\phi_2)]$\",\n",
    "             size = 14)\n",
    "\n",
    "plt.show()\n"
   ]
  },
  {
   "cell_type": "code",
   "execution_count": 7,
   "id": "77b62e84",
   "metadata": {},
   "outputs": [
    {
     "data": {
      "text/plain": [
       "(array([0.        , 0.39269908, 0.78539816, 1.17809725, 1.57079633]),\n",
       " [Text(0.0, 0, '0'),\n",
       "  Text(0.39269908169872414, 0, '${\\\\pi/8}$'),\n",
       "  Text(0.7853981633974483, 0, '${\\\\pi/4}$'),\n",
       "  Text(1.1780972450961724, 0, '${3\\\\pi/8}$'),\n",
       "  Text(1.5707963267948966, 0, '${\\\\pi/2}$')])"
      ]
     },
     "execution_count": 7,
     "metadata": {},
     "output_type": "execute_result"
    },
    {
     "data": {
      "image/png": "[encoded data removed]",
      "text/plain": [
       "<Figure size 576x576 with 1 Axes>"
      ]
     },
     "metadata": {
      "needs_background": "light"
     },
     "output_type": "display_data"
    }
   ],
   "source": [
    "import matplotlib\n",
    "import matplotlib.ticker as mtick\n",
    "matplotlib.rcParams['mathtext.fontset'] = 'stix'\n",
    "matplotlib.rcParams['font.family'] = 'STIXGeneral'\n",
    "\n",
    "\n",
    "\n",
    "matplotlib.rcParams['axes.titlepad'] = 10  # pad is in points...\n",
    "\n",
    "fig, ax = plt.subplots(figsize=(8,8))\n",
    "\n",
    "#ax.set_title(\"Nonlocal Region Map\", size = 20)\n",
    "\n",
    "colormap = colors.ListedColormap([\"#00539cff\", \"#ffe45c\"])\n",
    "\n",
    "plt.imshow(result_map,origin='lower', extent=[0,np.pi/2,0,np.pi/2], cmap=colormap)\n",
    "\n",
    "\n",
    "\n",
    "plt.xlabel(\"$\\phi_w$\", size = 20)\n",
    "plt.ylabel(\"$\\phi_u$\", size = 20)\n",
    "\n",
    "\n",
    "theta = np.linspace(0, np.pi/2, 5)\n",
    "plt.xticks(theta, ['0','$'+r'{\\pi/8}$','$'+r'{\\pi/4}$','$'+r'{3\\pi/8}$', '$'+r'{\\pi/2}$'])\n",
    "\n",
    "plt.yticks(theta, ['0','$'+r'{\\pi/8}$','$'+r'{\\pi/4}$','$'+r'{3\\pi/8}$', '$'+r'{\\pi/2}$'])\n",
    "\n",
    "plt.yticks(fontsize=18)\n",
    "plt.xticks(fontsize=18)\n"
   ]
  },
  {
   "cell_type": "code",
   "execution_count": 8,
   "id": "b420b253",
   "metadata": {},
   "outputs": [],
   "source": [
    "fig.savefig('nonlocality_22.pdf', bbox_inches='tight') "
   ]
  },
  {
   "cell_type": "code",
   "execution_count": null,
   "id": "5d752c94",
   "metadata": {},
   "outputs": [],
   "source": []
  },
  {
   "cell_type": "markdown",
   "id": "5fe5fb91",
   "metadata": {},
   "source": [
    "# many plots $\\lambda^2$"
   ]
  },
  {
   "cell_type": "code",
   "execution_count": 20,
   "id": "03b47f28",
   "metadata": {},
   "outputs": [
    {
     "data": {
      "text/plain": [
       "array([0.01, 0.07, 0.13, 0.19, 0.25, 0.31, 0.37, 0.43, 0.49])"
      ]
     },
     "execution_count": 20,
     "metadata": {},
     "output_type": "execute_result"
    }
   ],
   "source": [
    "l0_2_list = np.linspace(0.01,0.49,9)\n",
    "l0_2_list"
   ]
  },
  {
   "cell_type": "code",
   "execution_count": 23,
   "id": "418b6e4b",
   "metadata": {
    "scrolled": false
   },
   "outputs": [
    {
     "name": "stdout",
     "output_type": "stream",
     "text": [
      "time:  31.66402845799996\n"
     ]
    },
    {
     "data": {
      "image/png": "[encoded data removed]",
      "text/plain": [
       "<Figure size 360x360 with 1 Axes>"
      ]
     },
     "metadata": {
      "needs_background": "light"
     },
     "output_type": "display_data"
    },
    {
     "name": "stdout",
     "output_type": "stream",
     "text": [
      "time:  29.563419374999967\n"
     ]
    },
    {
     "data": {
      "image/png": "[encoded data removed]",
      "text/plain": [
       "<Figure size 360x360 with 1 Axes>"
      ]
     },
     "metadata": {
      "needs_background": "light"
     },
     "output_type": "display_data"
    },
    {
     "name": "stdout",
     "output_type": "stream",
     "text": [
      "time:  29.551890749999984\n"
     ]
    },
    {
     "data": {
      "image/png": "[encoded data removed]",
      "text/plain": [
       "<Figure size 360x360 with 1 Axes>"
      ]
     },
     "metadata": {
      "needs_background": "light"
     },
     "output_type": "display_data"
    },
    {
     "name": "stdout",
     "output_type": "stream",
     "text": [
      "time:  29.387369207999996\n"
     ]
    },
    {
     "data": {
      "image/png": "[encoded data removed]",
      "text/plain": [
       "<Figure size 360x360 with 1 Axes>"
      ]
     },
     "metadata": {
      "needs_background": "light"
     },
     "output_type": "display_data"
    },
    {
     "name": "stdout",
     "output_type": "stream",
     "text": [
      "time:  30.50247412500005\n"
     ]
    },
    {
     "data": {
      "image/png": "[encoded data removed]",
      "text/plain": [
       "<Figure size 360x360 with 1 Axes>"
      ]
     },
     "metadata": {
      "needs_background": "light"
     },
     "output_type": "display_data"
    },
    {
     "name": "stdout",
     "output_type": "stream",
     "text": [
      "time:  30.57924808300004\n"
     ]
    },
    {
     "data": {
      "image/png": "[encoded data removed]",
      "text/plain": [
       "<Figure size 360x360 with 1 Axes>"
      ]
     },
     "metadata": {
      "needs_background": "light"
     },
     "output_type": "display_data"
    },
    {
     "name": "stdout",
     "output_type": "stream",
     "text": [
      "time:  31.33719704200007\n"
     ]
    },
    {
     "data": {
      "image/png": "[encoded data removed]",
      "text/plain": [
       "<Figure size 360x360 with 1 Axes>"
      ]
     },
     "metadata": {
      "needs_background": "light"
     },
     "output_type": "display_data"
    },
    {
     "name": "stdout",
     "output_type": "stream",
     "text": [
      "time:  32.08564425000009\n"
     ]
    },
    {
     "data": {
      "image/png": "[encoded data removed]",
      "text/plain": [
       "<Figure size 360x360 with 1 Axes>"
      ]
     },
     "metadata": {
      "needs_background": "light"
     },
     "output_type": "display_data"
    },
    {
     "name": "stdout",
     "output_type": "stream",
     "text": [
      "time:  31.54370787500011\n"
     ]
    },
    {
     "data": {
      "image/png": "[encoded data removed]",
      "text/plain": [
       "<Figure size 360x360 with 1 Axes>"
      ]
     },
     "metadata": {
      "needs_background": "light"
     },
     "output_type": "display_data"
    }
   ],
   "source": [
    "import matplotlib\n",
    "import matplotlib.ticker as mtick\n",
    "matplotlib.rcParams['mathtext.fontset'] = 'stix'\n",
    "matplotlib.rcParams['font.family'] = 'STIXGeneral'\n",
    "\n",
    "\n",
    "\n",
    "\n",
    "\n",
    "for l02 in l0_2_list:\n",
    "\n",
    "    l0 = np.sqrt(l02)\n",
    "\n",
    "    tic = time.perf_counter()\n",
    "    result_map = get_result_map_mosek(l0=l0 , N_it=70)\n",
    "    toc = time.perf_counter()\n",
    "    print('time: ',toc-tic)\n",
    "\n",
    "    matplotlib.rcParams['axes.titlepad'] = 10  # pad is in points...\n",
    "\n",
    "    fig, ax = plt.subplots(figsize=(5,5))\n",
    "\n",
    "  \n",
    "    ax.set_title(\"Nonlocal Region for $\\lambda^2 =$ \"+str(l02), size = 20)\n",
    "\n",
    "    colormap = colors.ListedColormap([\"#00539cff\", \"#ffe45c\"])\n",
    "\n",
    "    plt.imshow(result_map,origin='lower', extent=[0,np.pi/2,0,np.pi/2], cmap=colormap)\n",
    "\n",
    "\n",
    "\n",
    "    plt.xlabel(\"$\\phi_w$\", size = 20)\n",
    "    plt.ylabel(\"$\\phi_u$\", size = 20)\n",
    "\n",
    "\n",
    "    theta = np.linspace(0, np.pi/2, 5)\n",
    "    plt.xticks(theta, ['0','$'+r'{\\pi/8}$','$'+r'{\\pi/4}$','$'+r'{3\\pi/8}$', '$'+r'{\\pi/2}$'])\n",
    "\n",
    "    plt.yticks(theta, ['0','$'+r'{\\pi/8}$','$'+r'{\\pi/4}$','$'+r'{3\\pi/8}$', '$'+r'{\\pi/2}$'])\n",
    "\n",
    "    plt.yticks(fontsize=18)\n",
    "    plt.xticks(fontsize=18)\n",
    "\n",
    "\n",
    "    plt.show()\n"
   ]
  },
  {
   "cell_type": "code",
   "execution_count": null,
   "id": "4c3650b7",
   "metadata": {},
   "outputs": [],
   "source": []
  }
 ],
 "metadata": {
  "kernelspec": {
   "display_name": "Python 3 (ipykernel)",
   "language": "python",
   "name": "python3"
  },
  "language_info": {
   "codemirror_mode": {
    "name": "ipython",
    "version": 3
   },
   "file_extension": ".py",
   "mimetype": "text/x-python",
   "name": "python",
   "nbconvert_exporter": "python",
   "pygments_lexer": "ipython3",
   "version": "3.9.12"
  }
 },
 "nbformat": 4,
 "nbformat_minor": 5
}
